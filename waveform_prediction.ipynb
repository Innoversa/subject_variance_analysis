{
 "cells": [
  {
   "cell_type": "code",
   "execution_count": 1,
   "id": "e8ebc563-774e-4b10-929c-04b6a5fc670d",
   "metadata": {},
   "outputs": [],
   "source": [
    "import scipy.io\n",
    "import matplotlib.pyplot as plt\n",
    "import pandas as pd\n",
    "from scipy.stats import describe\n",
    "import datetime\n",
    "from datetime import timedelta as timedelta\n",
    "from sklearn import preprocessing\n",
    "from sklearn.preprocessing import MinMaxScaler\n",
    "import numpy as np\n",
    "from sklearn.preprocessing import StandardScaler\n",
    "from scipy import signal\n",
    "import os, sys\n",
    "sys.path.append( '/home/ugrads/c/clearloveyanzhen/CufflessBP/bioz_processing' )\n",
    "import sicong_util as su\n",
    "import sicong_duck_path as sp\n",
    "import sicong_duck_path as sdp\n",
    "plt.rcParams.update({'font.size': 13})\n",
    "import seaborn as sns\n",
    "import scipy as sp # for signal processing\n",
    "from scipy import signal\n",
    "from scipy.spatial import distance\n",
    "import IPython.display as ipd\n",
    "import random\n",
    "import math\n",
    "import mat73"
   ]
  },
  {
   "cell_type": "code",
   "execution_count": null,
   "id": "9e8398f6-24e9-43ce-929f-6ae613cbdd62",
   "metadata": {},
   "outputs": [],
   "source": [
    "bmat = su.dir_check(pname='A', file_type='bioz_mat')\n",
    "fmat = su.dir_check(pname='A', file_type='fprs_mat')"
   ]
  },
  {
   "cell_type": "code",
   "execution_count": 17,
   "id": "565ad122-9c08-4ece-be25-8d11bdd46fce",
   "metadata": {},
   "outputs": [],
   "source": [
    "finapres_dict, total_finapres = su.export_finapres_to_dict()\n",
    "bioz_mat_dict, total_bioz_mat = su.export_bioz_mat_to_dict()\n",
    "index_used = 10\n",
    "mat_obj = mat73.loadmat(bioz_mat_dict['A']['01']['11_29_43'][0], use_attrdict=True)['XL_Board']\n",
    "fprs_obj = pd.read_csv(finapres_dict['A']['01']['11_29_43'][0])"
   ]
  },
  {
   "cell_type": "code",
   "execution_count": 4,
   "id": "f6d7b8d5-c68d-4a21-b490-b0230e26b8e5",
   "metadata": {},
   "outputs": [
    {
     "name": "stdout",
     "output_type": "stream",
     "text": [
      "(320,)\n",
      "(320,)\n",
      "(320,)\n"
     ]
    },
    {
     "data": {
      "text/html": [
       "<div>\n",
       "<style scoped>\n",
       "    .dataframe tbody tr th:only-of-type {\n",
       "        vertical-align: middle;\n",
       "    }\n",
       "\n",
       "    .dataframe tbody tr th {\n",
       "        vertical-align: top;\n",
       "    }\n",
       "\n",
       "    .dataframe thead th {\n",
       "        text-align: right;\n",
       "    }\n",
       "</style>\n",
       "<table border=\"1\" class=\"dataframe\">\n",
       "  <thead>\n",
       "    <tr style=\"text-align: right;\">\n",
       "      <th></th>\n",
       "      <th>reSYS</th>\n",
       "      <th>fiSYS</th>\n",
       "      <th>reDIA</th>\n",
       "      <th>fiDIA</th>\n",
       "      <th>time (synced to ppg)</th>\n",
       "    </tr>\n",
       "  </thead>\n",
       "  <tbody>\n",
       "    <tr>\n",
       "      <th>0</th>\n",
       "      <td>115.859985</td>\n",
       "      <td>107.482910</td>\n",
       "      <td>74.096680</td>\n",
       "      <td>56.396484</td>\n",
       "      <td>0.502095</td>\n",
       "    </tr>\n",
       "    <tr>\n",
       "      <th>1</th>\n",
       "      <td>118.743896</td>\n",
       "      <td>111.007690</td>\n",
       "      <td>73.196411</td>\n",
       "      <td>55.648804</td>\n",
       "      <td>1.341995</td>\n",
       "    </tr>\n",
       "    <tr>\n",
       "      <th>2</th>\n",
       "      <td>122.634888</td>\n",
       "      <td>114.501953</td>\n",
       "      <td>74.996948</td>\n",
       "      <td>57.357788</td>\n",
       "      <td>2.176995</td>\n",
       "    </tr>\n",
       "    <tr>\n",
       "      <th>3</th>\n",
       "      <td>123.718262</td>\n",
       "      <td>115.951538</td>\n",
       "      <td>74.432373</td>\n",
       "      <td>56.488037</td>\n",
       "      <td>3.046895</td>\n",
       "    </tr>\n",
       "    <tr>\n",
       "      <th>4</th>\n",
       "      <td>122.985840</td>\n",
       "      <td>115.509033</td>\n",
       "      <td>73.867798</td>\n",
       "      <td>56.152344</td>\n",
       "      <td>3.936795</td>\n",
       "    </tr>\n",
       "    <tr>\n",
       "      <th>...</th>\n",
       "      <td>...</td>\n",
       "      <td>...</td>\n",
       "      <td>...</td>\n",
       "      <td>...</td>\n",
       "      <td>...</td>\n",
       "    </tr>\n",
       "    <tr>\n",
       "      <th>315</th>\n",
       "      <td>141.006470</td>\n",
       "      <td>137.664795</td>\n",
       "      <td>90.438843</td>\n",
       "      <td>70.175171</td>\n",
       "      <td>241.176995</td>\n",
       "    </tr>\n",
       "    <tr>\n",
       "      <th>316</th>\n",
       "      <td>138.656616</td>\n",
       "      <td>134.292603</td>\n",
       "      <td>89.981079</td>\n",
       "      <td>69.671631</td>\n",
       "      <td>241.931895</td>\n",
       "    </tr>\n",
       "    <tr>\n",
       "      <th>317</th>\n",
       "      <td>140.686035</td>\n",
       "      <td>137.817383</td>\n",
       "      <td>88.256836</td>\n",
       "      <td>68.054199</td>\n",
       "      <td>242.716795</td>\n",
       "    </tr>\n",
       "    <tr>\n",
       "      <th>318</th>\n",
       "      <td>145.599365</td>\n",
       "      <td>142.501831</td>\n",
       "      <td>89.828491</td>\n",
       "      <td>69.839478</td>\n",
       "      <td>243.536795</td>\n",
       "    </tr>\n",
       "    <tr>\n",
       "      <th>319</th>\n",
       "      <td>144.775391</td>\n",
       "      <td>142.852783</td>\n",
       "      <td>90.362549</td>\n",
       "      <td>69.305420</td>\n",
       "      <td>244.401695</td>\n",
       "    </tr>\n",
       "  </tbody>\n",
       "</table>\n",
       "<p>320 rows × 5 columns</p>\n",
       "</div>"
      ],
      "text/plain": [
       "          reSYS       fiSYS      reDIA      fiDIA  time (synced to ppg)\n",
       "0    115.859985  107.482910  74.096680  56.396484              0.502095\n",
       "1    118.743896  111.007690  73.196411  55.648804              1.341995\n",
       "2    122.634888  114.501953  74.996948  57.357788              2.176995\n",
       "3    123.718262  115.951538  74.432373  56.488037              3.046895\n",
       "4    122.985840  115.509033  73.867798  56.152344              3.936795\n",
       "..          ...         ...        ...        ...                   ...\n",
       "315  141.006470  137.664795  90.438843  70.175171            241.176995\n",
       "316  138.656616  134.292603  89.981079  69.671631            241.931895\n",
       "317  140.686035  137.817383  88.256836  68.054199            242.716795\n",
       "318  145.599365  142.501831  89.828491  69.839478            243.536795\n",
       "319  144.775391  142.852783  90.362549  69.305420            244.401695\n",
       "\n",
       "[320 rows x 5 columns]"
      ]
     },
     "execution_count": 4,
     "metadata": {},
     "output_type": "execute_result"
    }
   ],
   "source": [
    "print(fprs_obj['reSYS'].to_numpy().shape)\n",
    "print(fprs_obj['reDIA'].to_numpy().shape)\n",
    "print(fprs_obj['time (synced to ppg)'].to_numpy().shape)\n",
    "fprs_obj"
   ]
  },
  {
   "cell_type": "code",
   "execution_count": 18,
   "id": "fc8663d1-9623-4660-95b2-e4b0833114c6",
   "metadata": {},
   "outputs": [],
   "source": [
    "ms_t=mat_obj['all']['ms_t']"
   ]
  },
  {
   "cell_type": "code",
   "execution_count": 6,
   "id": "4dbf314b-0b54-47e9-a033-6a6c16f32565",
   "metadata": {},
   "outputs": [
    {
     "data": {
      "text/plain": [
       "(0.0, 1.5)"
      ]
     },
     "execution_count": 6,
     "metadata": {},
     "output_type": "execute_result"
    },
    {
     "data": {
      "image/png": "[encoded data removed]",
      "text/plain": [
       "<Figure size 432x288 with 1 Axes>"
      ]
     },
     "metadata": {
      "needs_background": "light"
     },
     "output_type": "display_data"
    }
   ],
   "source": [
    "i, j = ms_t.shape\n",
    "stds = np.array([])\n",
    "for i in range(i):\n",
    "    stds=np.append(stds, np.std(ms_t[i]))\n",
    "plt.plot(ms_t[:,-1], stds)\n",
    "plt.title('std of each maximum slope point(from session05)')\n",
    "plt.xlabel('time(s)')\n",
    "plt.ylabel('std value (dz)')\n",
    "plt.axhline(y=0.5,color='purple', ls='--')\n",
    "plt.axhline(y=1,color='purple', ls='--')\n",
    "plt.ylim([0,1.5])"
   ]
  },
  {
   "cell_type": "code",
   "execution_count": 7,
   "id": "baab77a3-aeb4-4187-9233-ffaac74699fb",
   "metadata": {},
   "outputs": [
    {
     "data": {
      "text/plain": [
       "'/home/data/datasets/sicong_bioz_bp//75-1_75A/session03_0312_2021/test00-20210312 13_34_28.mat'"
      ]
     },
     "execution_count": 7,
     "metadata": {},
     "output_type": "execute_result"
    }
   ],
   "source": [
    "bmat[index_used]"
   ]
  },
  {
   "cell_type": "code",
   "execution_count": 54,
   "id": "3f2a9bd6-c31d-48b6-a696-22857bdde95d",
   "metadata": {},
   "outputs": [],
   "source": [
    "def make_sample(ppg_ms_t, mat_obj, fprs_obj, len_beats=1, include_labels=1):\n",
    "    sample_res = 300\n",
    "    ms_t_array = mat_obj['all']['ms_t'][:,-1]\n",
    "    ed_idx = np.where(ms_t_array == ppg_ms_t)[0][0]\n",
    "    st_idx = max(ed_idx - len_beats, 0)\n",
    "    st_t = ms_t_array[st_idx]\n",
    "    ed_t = ms_t_array[ed_idx]\n",
    "    st_i = np.where(mat_obj['bioz'][0]['t_dr']==st_t)[0][0]\n",
    "    ed_i = np.where(mat_obj['bioz'][0]['t_dr']==ed_t)[0][0]    \n",
    "    \n",
    "    # extracting biozs then downsample then concatenate them\n",
    "    bioz1 = signal.resample(mat_obj['bioz'][0]['dz'][st_i:ed_i+1], len_beats*sample_res)\n",
    "    bioz2 = signal.resample(mat_obj['bioz'][1]['dz'][st_i:ed_i+1], len_beats*sample_res)\n",
    "    # bioz3 = signal.resample(mat_obj['bioz'][2]['dz'][st_i:ed_i+1], len_beats*sample_res)\n",
    "    # bioz4 = signal.resample(mat_obj['bioz'][3]['dz'][st_i:ed_i+1], len_beats*sample_res)\n",
    "    # out_x = np.concatenate((bioz1, bioz2, bioz3, bioz4), axis=0)\n",
    "    out_x = np.concatenate((bioz1, bioz2), axis=0)\n",
    "    \n",
    "    # processing finapres values     \n",
    "    fprs_sys = fprs_obj['reSYS'].to_numpy()\n",
    "    fprs_dia = fprs_obj['reDIA'].to_numpy()\n",
    "    fprs_time = fprs_obj['time (synced to ppg)'].to_numpy()\n",
    "    fprs_idx = np.where(fprs_time == fprs_time[(fprs_time<=ppg_ms_t)][-1])[0][0]\n",
    "    out_y = [fprs_sys[fprs_idx], fprs_dia[fprs_idx]]\n",
    "    # print(fprs_sys[fprs_idx])\n",
    "    if include_labels == 1:\n",
    "        out_x = np.concatenate((out_x,fprs_sys[fprs_idx-len_beats:fprs_idx]), axis=0)\n",
    "    # print(fprs_sys[fprs_idx-len_beats:fprs_idx])\n",
    "    return out_x, out_y    \n",
    "# out_x, out_y = make_sample(val, mat_obj, fprs_obj, len_beats=1)"
   ]
  },
  {
   "cell_type": "code",
   "execution_count": 40,
   "id": "cbe7dab6-95d4-4144-8108-7048a39f8385",
   "metadata": {},
   "outputs": [
    {
     "data": {
      "text/plain": [
       "(1803,)"
      ]
     },
     "execution_count": 40,
     "metadata": {},
     "output_type": "execute_result"
    }
   ],
   "source": [
    "out_x.shape"
   ]
  },
  {
   "cell_type": "code",
   "execution_count": null,
   "id": "c65f6e05-1ba6-441c-a97d-0c990673d6aa",
   "metadata": {},
   "outputs": [],
   "source": [
    "X = []\n",
    "y = []\n",
    "len_beats = 3\n",
    "for subject in ['A']:\n",
    "    for session in finapres_dict[subject]:\n",
    "        for trial in finapres_dict[subject][session]:\n",
    "            for i in range(len(finapres_dict[subject][session][trial])):\n",
    "                mat_obj = mat73.loadmat(bioz_mat_dict[subject][session][trial][i], use_attrdict=True)['XL_Board']\n",
    "                fprs_obj = pd.read_csv(finapres_dict[subject][session][trial][i])\n",
    "                ms_t=mat_obj['all']['ms_t']\n",
    "                for val in ms_t[10:-10,-1]:\n",
    "                    out_x, out_y = make_sample(val, mat_obj, fprs_obj, len_beats=10)\n",
    "                    X.append(out_x)\n",
    "                    y.append(out_y)\n",
    "# ms_t=mat_obj['all']['ms_t']\n",
    "# for val in ms_t[len_beats:-len_beats, -1]:\n",
    "#     out_x, out_y = make_sample(val, mat_obj, fprs_obj, len_beats=len_beats)\n",
    "#     X.append(out_x)\n",
    "#     y.append(out_y)\n",
    "# X=np.array(X)\n",
    "# y=np.array(y)\n",
    "np.save('X_file', X)\n",
    "np.save('y_file', y)"
   ]
  },
  {
   "cell_type": "code",
   "execution_count": 118,
   "id": "d31d2331-9924-4cf0-81e1-df8f30720dc5",
   "metadata": {},
   "outputs": [
    {
     "data": {
      "text/plain": [
       "((16527, 6000), (16527, 2))"
      ]
     },
     "execution_count": 118,
     "metadata": {},
     "output_type": "execute_result"
    }
   ],
   "source": [
    "X = np.load('X_file.npy')\n",
    "y = np.load('y_file.npy')\n",
    "X.shape, y.shape"
   ]
  },
  {
   "cell_type": "code",
   "execution_count": 119,
   "id": "69a8d62d-6431-4125-b255-e5503f2b3e9e",
   "metadata": {},
   "outputs": [],
   "source": [
    "filter_arr = ((y<[160, 120])&(y>[110, 60]))[:,0]\n",
    "X = X[filter_arr]\n",
    "y = y[filter_arr]"
   ]
  },
  {
   "cell_type": "code",
   "execution_count": 120,
   "id": "826a1267-20c7-46af-8704-b40225b077f2",
   "metadata": {},
   "outputs": [
    {
     "data": {
      "text/plain": [
       "(14926,)"
      ]
     },
     "execution_count": 120,
     "metadata": {},
     "output_type": "execute_result"
    }
   ],
   "source": [
    "y[:,0].shape"
   ]
  },
  {
   "cell_type": "code",
   "execution_count": 121,
   "id": "5b3e8d92-38bd-4446-88c7-5cc289e413ce",
   "metadata": {},
   "outputs": [],
   "source": [
    "def bin_labels(sbp, bin_list=np.arange(115,165,5)):\n",
    "    for i in range(len(sbp)):\n",
    "        for each in bin_list:\n",
    "            if np.absolute(sbp[i] - each) <= 2.5:\n",
    "                sbp[i] = each\n",
    "    return sbp\n",
    "def bin_label2(X, sbp, bin_list=np.arange(115,165,5)):\n",
    "    new_X = []\n",
    "    new_sbp = []\n",
    "    for i in range(len(sbp)):\n",
    "        for each in bin_list:\n",
    "            if np.absolute(sbp[i] - each) <= 0.5:\n",
    "                new_sbp.append(each)\n",
    "                new_X.append(X[i])\n",
    "    return new_X, new_sbp\n",
    "# sbp = bin_labels(sbp=y[:,0])\n",
    "X, sbp = bin_label2(X, sbp=y[:,0])"
   ]
  },
  {
   "cell_type": "code",
   "execution_count": 126,
   "id": "380e72ca-d720-427c-a51e-ac8968f22d2d",
   "metadata": {},
   "outputs": [],
   "source": [
    "X = np.array(X)\n",
    "sbp = np.array(sbp)"
   ]
  },
  {
   "cell_type": "code",
   "execution_count": 127,
   "id": "b64b07c2-8a6b-4985-9255-072a21e34540",
   "metadata": {},
   "outputs": [
    {
     "data": {
      "text/plain": [
       "array([[0],\n",
       "       [0],\n",
       "       [0],\n",
       "       ...,\n",
       "       [2],\n",
       "       [1],\n",
       "       [0]])"
      ]
     },
     "execution_count": 127,
     "metadata": {},
     "output_type": "execute_result"
    }
   ],
   "source": [
    "sbp = y[:,0].reshape(-1,1)\n",
    "sbp = (sbp - 130) / 5\n",
    "sbp = sbp.astype(int)\n",
    "sbp\n",
    "# dbp = y[:,1].reshape(-1,1)\n",
    "# sbp = y[:,0]"
   ]
  },
  {
   "cell_type": "code",
   "execution_count": 128,
   "id": "628236c4-c5fb-45e4-838f-bd28eff01063",
   "metadata": {},
   "outputs": [
    {
     "name": "stdout",
     "output_type": "stream",
     "text": [
      "(2830, 6000) (14926,)\n"
     ]
    }
   ],
   "source": [
    "mx = MinMaxScaler()\n",
    "ms = MinMaxScaler()\n",
    "md = MinMaxScaler()\n",
    "X = mx.fit_transform(X)\n",
    "# y=ms.fit_transform(y)\n",
    "# sbp = ms.fit_transform(sbp)\n",
    "# dbp = md.fit_transform(dbp)\n",
    "# y_list = ()\n",
    "# for each in y[:,0]:\n",
    "    \n",
    "from sklearn.utils import resample\n",
    "# X, sbp = resample(X, sbp)\n",
    "sbp = sbp.reshape(-1,)\n",
    "print(X.shape, sbp.shape)"
   ]
  },
  {
   "cell_type": "code",
   "execution_count": 129,
   "id": "dd86d61a-0955-4a52-84cb-9061bfe23ba9",
   "metadata": {},
   "outputs": [
    {
     "name": "stdout",
     "output_type": "stream",
     "text": [
      "(1000, 6000) (1000,)\n"
     ]
    }
   ],
   "source": [
    "X=X[:1000,:]\n",
    "sbp=sbp[:1000,]\n",
    "print(X.shape, sbp.shape)"
   ]
  },
  {
   "cell_type": "code",
   "execution_count": null,
   "id": "49ca9a9d-9049-4915-8702-9b16dd580d66",
   "metadata": {},
   "outputs": [],
   "source": []
  },
  {
   "cell_type": "code",
   "execution_count": null,
   "id": "0120c436-1bcc-44ea-a050-e07950b413b4",
   "metadata": {},
   "outputs": [],
   "source": [
    "from sklearn import svm\n",
    "import xgboost\n",
    "from sklearn.model_selection import train_test_split, cross_val_score, KFold\n",
    "from sklearn.metrics import f1_score, plot_confusion_matrix, mean_squared_error\n",
    "from sklearn.linear_model import LogisticRegression, LinearRegression\n",
    "c_val = 0.1\n",
    "# X_train, X_test, y_train, y_test = train_test_split(X, sbp, test_size=0.3, random_state=42)\n",
    "lr = LinearRegression()\n",
    "# xgb = xgboost.XGBRegressor(objective='reg:logistic', eval_metric='rmse')\n",
    "xgb = xgboost.XGBClassifier(objective='multi:softprob', eval_metric='auc')\n",
    "models_used = {'xgb':xgb}\n",
    "model_names = {'xgb':'XGBoost'}\n",
    "colors_used = {'xgb': 'blue'}\n",
    "scores = {}\n",
    "for model in models_used:\n",
    "    kf = KFold(n_splits=2, shuffle=False)\n",
    "    scores[model] = cross_val_score(models_used[model], X, sbp, cv=5, scoring='f1_micro')\n",
    "    for train_index, test_index in kf.split(X, sbp):\n",
    "        print('cycle')\n",
    "        X_train, X_test = X[train_index], X[test_index]\n",
    "        y_train, y_test = sbp[train_index], sbp[test_index]\n",
    "        models_used[model].fit(X_train, y_train)\n",
    "        y_pred = models_used[model].predict(X_test).reshape(-1,1)\n",
    "        # y_pred = ms.inverse_transform(y_pred)\n",
    "        # y_test = ms.inverse_transform(y_test)\n",
    "        # scores[model].append(mean_squared_error(y_test, y_pred, squared=True))"
   ]
  },
  {
   "cell_type": "code",
   "execution_count": 131,
   "id": "b6d1e97a-038e-4ade-ba36-6d3a172be856",
   "metadata": {},
   "outputs": [
    {
     "data": {
      "text/plain": [
       "{'xgb': array([0.23 , 0.225, 0.195, 0.195, 0.21 ])}"
      ]
     },
     "execution_count": 131,
     "metadata": {},
     "output_type": "execute_result"
    }
   ],
   "source": [
    "# X_train, X_test, y_train, y_test = train_test_split(X, y[:,sel], test_size=0.3, random_state=42)\n",
    "# for model in models_used:\n",
    "#     models_used[model].fit(X_train, y_train)\n",
    "#     y_pred = models_used[model].predict(X_test)\n",
    "#     print(model, mean_squared_error(y_test, y_pred, squared=True))\n",
    "scores"
   ]
  },
  {
   "cell_type": "code",
   "execution_count": 133,
   "id": "ff4b61c9-c807-445d-8c7f-0c85cbd2e10a",
   "metadata": {},
   "outputs": [
    {
     "data": {
      "text/plain": [
       "0.211"
      ]
     },
     "execution_count": 133,
     "metadata": {},
     "output_type": "execute_result"
    }
   ],
   "source": [
    "np.mean(scores['xgb'])"
   ]
  },
  {
   "cell_type": "code",
   "execution_count": 134,
   "id": "2cda2bb5-f039-4730-a091-5dd5f44d84f9",
   "metadata": {
    "tags": []
   },
   "outputs": [
    {
     "data": {
      "text/plain": [
       "Text(0.5, 0, '# of fold (10 fold total)')"
      ]
     },
     "execution_count": 134,
     "metadata": {},
     "output_type": "execute_result"
    },
    {
     "data": {
      "image/png": "[encoded data removed]",
      "text/plain": [
       "<Figure size 432x288 with 1 Axes>"
      ]
     },
     "metadata": {
      "needs_background": "light"
     },
     "output_type": "display_data"
    }
   ],
   "source": [
    "plt.plot(scores['xgb'], color=colors_used['xgb'], label='xgb')\n",
    "plt.axhline(np.mean(scores['xgb']), color=colors_used[model])\n",
    "plt.legend()\n",
    "plt.title('3 consecutive beats predicting 1 SBP (with previous BP labels)')\n",
    "plt.ylabel('RMSE (mmHg)')\n",
    "plt.xlabel('# of fold (10 fold total)')"
   ]
  },
  {
   "cell_type": "code",
   "execution_count": 139,
   "id": "a4c85b5b-2a8c-431b-8b3c-61e5292477cd",
   "metadata": {},
   "outputs": [
    {
     "name": "stderr",
     "output_type": "stream",
     "text": [
      "/home/ugrads/c/clearloveyanzhen/miniconda3/envs/torch/lib/python3.9/site-packages/sklearn/utils/deprecation.py:87: FutureWarning: Function plot_confusion_matrix is deprecated; Function `plot_confusion_matrix` is deprecated in 1.0 and will be removed in 1.2. Use one of the class methods: ConfusionMatrixDisplay.from_predictions or ConfusionMatrixDisplay.from_estimator.\n",
      "  warnings.warn(msg, category=FutureWarning)\n"
     ]
    },
    {
     "data": {
      "text/plain": [
       "Text(0.5, 1.0, 'Confusion Matrix')"
      ]
     },
     "execution_count": 139,
     "metadata": {},
     "output_type": "execute_result"
    },
    {
     "data": {
      "image/png": "[encoded data removed]",
      "text/plain": [
       "<Figure size 432x288 with 2 Axes>"
      ]
     },
     "metadata": {
      "needs_background": "light"
     },
     "output_type": "display_data"
    }
   ],
   "source": [
    "plot_confusion_matrix(models_used['xgb'], X_test, y_test, display_labels=np.arange(120,160,5), xticks_rotation='vertical')\n",
    "plt.title('Confusion Matrix')"
   ]
  },
  {
   "cell_type": "code",
   "execution_count": 138,
   "id": "8ce5d02d-1a80-4ed3-a0c0-995f7f523d42",
   "metadata": {},
   "outputs": [
    {
     "data": {
      "text/plain": [
       "(10,)"
      ]
     },
     "execution_count": 138,
     "metadata": {},
     "output_type": "execute_result"
    }
   ],
   "source": [
    "np.arange(115,165,5).shape"
   ]
  },
  {
   "cell_type": "code",
   "execution_count": 15,
   "id": "c126d6f3-ff97-44a6-bcc4-63c3b938ffd5",
   "metadata": {},
   "outputs": [
    {
     "name": "stdout",
     "output_type": "stream",
     "text": [
      "0.18859454335479459\n",
      "10.078613182197557\n"
     ]
    },
    {
     "data": {
      "text/plain": [
       "<Figure size 5250x3500 with 0 Axes>"
      ]
     },
     "metadata": {},
     "output_type": "display_data"
    },
    {
     "data": {
      "image/png": "[encoded data removed]",
      "text/plain": [
       "<Figure size 1080x720 with 2 Axes>"
      ]
     },
     "metadata": {
      "needs_background": "light"
     },
     "output_type": "display_data"
    }
   ],
   "source": [
    "import math\n",
    "import sklearn\n",
    "from scipy.stats import pearsonr\n",
    "from matplotlib.pyplot import figure\n",
    "figure(figsize=(15, 10), dpi=350)\n",
    "\n",
    "# rmse = math.sqrt(sklearn.metrics.mean_squared_error(y_test, preds.flatten()))\n",
    "\n",
    "# print('RMSE... ' + str(rmse))\n",
    "\n",
    "\n",
    "def bland_altman(y_test, preds, title='plot'):\n",
    "    fig, ax = plt.subplots(nrows=2, ncols=1, figsize=(15, 10))\n",
    "\n",
    "    ######################################################\n",
    "    ######################## Plot 1 ######################\n",
    "    ######################################################\n",
    "    f = ax[0]\n",
    "\n",
    "    f.set_ylabel('Estimated SBP (mmHg)')\n",
    "    f.set_xlabel('Reference SBP (mmHg)')\n",
    "\n",
    "    x = y_test.flatten()\n",
    "    y = preds.flatten()\n",
    "    f.scatter(x, y)\n",
    "\n",
    "    z = np.polyfit(x, y, 1)\n",
    "    p = np.poly1d(z)\n",
    "    #w = [25, 80]\n",
    "    w = [min(y_test.min(), preds.min()), max(y_test.max(), preds.max())]\n",
    "    f.plot(w,p(w),\"k--\")\n",
    "\n",
    "    f.set_ylim(w)\n",
    "    f.set_xlim(w)\n",
    "\n",
    "    ######################################################\n",
    "    ######################## Plot 2 ######################\n",
    "    ######################################################\n",
    "    f = ax[1]\n",
    "\n",
    "    f.set_ylabel('Systolic BP Error (mmHg)')\n",
    "    f.set_xlabel('Reference Systolic BP (mmHg)')\n",
    "\n",
    "    x = y_test.flatten()\n",
    "    y = y_test.flatten() - preds.flatten()\n",
    "    f.scatter(x, y)\n",
    "\n",
    "    bias = y.mean()\n",
    "    print(bias)\n",
    "    st = y.std()\n",
    "    print(st)\n",
    "    l_loa = bias-1.96*st\n",
    "    h_loa = bias+1.96*st\n",
    "\n",
    "    f.axhline(y=bias,  ls='--', color='k')\n",
    "    f.axhline(y=l_loa, ls='--', color='r')\n",
    "    f.axhline(y=h_loa, ls='--', color='r')\n",
    "\n",
    "    f.text(x.min(), h_loa+1, f'{h_loa:.2f}'.rjust(5), color='r', fontsize=16)\n",
    "    f.text(x.min(),  bias-2.5,   f'{bias:.2f}'.rjust(5), color='k', fontsize=16)\n",
    "    f.text(x.min(), l_loa-4, f'{l_loa:.2f}'.rjust(5), color='r', fontsize=16)\n",
    "\n",
    "    f.set_ylim((-60,60))\n",
    "    f.set_xlim(w)\n",
    "\n",
    "    f.set_title(title)\n",
    "\n",
    "    plt.show()\n",
    "bland_altman(y_test, y_pred, 'SBP Bland Altman')\n",
    "# bland_altman(new_y_true[:,1], new_y_pred[:,1], 'SBP Bland Altman')\n",
    "# bland_altman(new_y_true[:,0], new_y_pred[:,0], 'DBP Bland Altman')"
   ]
  },
  {
   "cell_type": "code",
   "execution_count": null,
   "id": "dcf7e3f6-6727-469c-aeb0-90a1370aa9c0",
   "metadata": {},
   "outputs": [],
   "source": []
  }
 ],
 "metadata": {
  "kernelspec": {
   "display_name": "torch(subject_var)",
   "language": "python",
   "name": "torch"
  },
  "language_info": {
   "codemirror_mode": {
    "name": "ipython",
    "version": 3
   },
   "file_extension": ".py",
   "mimetype": "text/x-python",
   "name": "python",
   "nbconvert_exporter": "python",
   "pygments_lexer": "ipython3",
   "version": "3.9.12"
  }
 },
 "nbformat": 4,
 "nbformat_minor": 5
}
