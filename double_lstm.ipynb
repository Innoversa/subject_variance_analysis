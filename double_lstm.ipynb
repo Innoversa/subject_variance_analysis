{
 "cells": [
  {
   "cell_type": "code",
   "execution_count": 10,
   "id": "6715e0d3-d6b5-4970-840e-3fa81d4e9300",
   "metadata": {},
   "outputs": [],
   "source": [
    "import scipy.io\n",
    "import matplotlib.pyplot as plt\n",
    "import pandas as pd\n",
    "from scipy.stats import describe, pearsonr\n",
    "import datetime\n",
    "from datetime import timedelta as timedelta\n",
    "from sklearn import preprocessing\n",
    "from sklearn.preprocessing import MinMaxScaler\n",
    "import numpy as np\n",
    "from sklearn.preprocessing import StandardScaler\n",
    "from scipy import signal\n",
    "import os, sys\n",
    "sys.path.append( '/home/ugrads/c/clearloveyanzhen/CufflessBP/bioz_processing' )\n",
    "import sicong_util as su\n",
    "import sicong_duck_path as sp\n",
    "import sicong_duck_path as sdp\n",
    "plt.rcParams.update({'font.size': 13})\n",
    "import seaborn as sns\n",
    "import scipy as sp # for signal processing\n",
    "from scipy import signal\n",
    "from scipy.spatial import distance\n",
    "import IPython.display as ipd\n",
    "import random\n",
    "import math\n",
    "import mat73\n",
    "import h_model"
   ]
  },
  {
   "cell_type": "code",
   "execution_count": 11,
   "id": "5bf960eb-bbbf-48f6-b906-bce967cd2753",
   "metadata": {},
   "outputs": [],
   "source": [
    "X = np.load('X_file.npy')\n",
    "y = np.load('y_file.npy')"
   ]
  },
  {
   "cell_type": "code",
   "execution_count": 12,
   "id": "b7a555b8-26b7-4a4b-ad3f-8bf7a650fb73",
   "metadata": {},
   "outputs": [],
   "source": [
    "import torch\n",
    "import torch.nn as nn\n",
    "import torch.nn.functional as F\n",
    "import torch.optim as optim\n",
    "from sklearn.model_selection import train_test_split\n",
    "from torch.utils.data import DataLoader , TensorDataset\n",
    "import torch.autograd as autograd\n",
    "from torch import Tensor\n",
    "    \n",
    "# from sklearn.preprocessing import StandardScaler, MinMaxScaler"
   ]
  },
  {
   "cell_type": "code",
   "execution_count": 13,
   "id": "01b8f37c-c48c-4652-804e-b42e15de9d3d",
   "metadata": {},
   "outputs": [],
   "source": [
    "class LSTM_Model(nn.Module):  # Inherit nn.Module\n",
    "    def __init__(self, input_size, hidden_units, num_layers):\n",
    "        super().__init__()\n",
    "        self.input_size = input_size  # this is the number of features\n",
    "        self.hidden_units = hidden_units\n",
    "        self.num_layers = num_layers\n",
    "        self.lstm = nn.LSTM(\n",
    "            input_size=self.input_size,\n",
    "            hidden_size=self.hidden_units,\n",
    "            batch_first=True,\n",
    "            num_layers=self.num_layers\n",
    "        )\n",
    "        self.linear = nn.Linear(in_features=self.hidden_units, out_features=1)\n",
    "        \n",
    "    def forward(self, x):\n",
    "        batch_size = x.shape[0]\n",
    "        h0 = torch.zeros(self.num_layers, batch_size, self.hidden_units).requires_grad_()\n",
    "        c0 = torch.zeros(self.num_layers, batch_size, self.hidden_units).requires_grad_()\n",
    "\n",
    "        _, (hn, _) = self.lstm(x, (h0, c0))\n",
    "        out = self.linear(hn[0]).flatten()  # First dim of Hn is num_layers, which is set to 1 above.\n",
    "        return out"
   ]
  },
  {
   "cell_type": "code",
   "execution_count": 14,
   "id": "f883dc86-48c1-4f09-80d7-55455b8f798d",
   "metadata": {},
   "outputs": [],
   "source": [
    "class MinMaxScaler(object):\n",
    "    \"\"\"\n",
    "    Transforms each channel to the range [0, 1].\n",
    "    \"\"\"\n",
    "    def transform(self, tensor): \n",
    "        self.max = tensor.max()\n",
    "        self.min = tensor.min()\n",
    "        scale = 1.0 / (tensor.max() - tensor.min())\n",
    "        tensor.sub_(tensor.min())\n",
    "        tensor.mul_(scale)\n",
    "        # tensor.mul_(scale).sub_(tensor.min().mul_(scale))\n",
    "\n",
    "    def inverse(self, tensor):\n",
    "        scale = (self.max - self.min)\n",
    "        tensor.mul_(scale)\n",
    "        tensor.add_(self.min)\n",
    "mms = MinMaxScaler()"
   ]
  },
  {
   "cell_type": "code",
   "execution_count": 65,
   "id": "f69b7c29-5d73-4400-b226-6d56347cfcb4",
   "metadata": {},
   "outputs": [],
   "source": [
    "# xs = MinMaxScaler()\n",
    "# ys = MinMaxScaler()\n",
    "bs = 1\n",
    "idx_pre=3000\n",
    "input_x = np.reshape(X[:idx_pre,-(bs*300*2):], (-1, 2, 300*bs))\n",
    "# input_x = np.transpose(input_x, [0,2,1])\n",
    "input_x = input_x.astype(np.float32)\n",
    "label_y = y[:idx_pre,0].astype(np.float32)\n",
    "\n",
    "# input_x = xs.fit_transform(input_x)\n",
    "# label_y = ys.fit_transform(label_y)\n",
    "\n",
    "input_x = torch.tensor(input_x)\n",
    "label_y = torch.tensor(label_y)\n",
    "mms.transform(label_y)"
   ]
  },
  {
   "cell_type": "code",
   "execution_count": 71,
   "id": "d542b535-c9b8-4853-9152-3b61cde2f573",
   "metadata": {},
   "outputs": [
    {
     "data": {
      "text/plain": [
       "(torch.Size([3000, 2, 300]), torch.Size([3000]))"
      ]
     },
     "execution_count": 71,
     "metadata": {},
     "output_type": "execute_result"
    }
   ],
   "source": [
    "input_x.shape, label_y.shape"
   ]
  },
  {
   "cell_type": "code",
   "execution_count": 72,
   "id": "17595d6b-f00d-4b4f-8670-c6ffb8a96ee3",
   "metadata": {},
   "outputs": [],
   "source": [
    "def train_model(data_loader, model, loss_function, optimizer):\n",
    "    num_batches = len(data_loader)\n",
    "    total_loss = 0\n",
    "    model.train()\n",
    "\n",
    "    for X, y in data_loader:\n",
    "        output = model(X)\n",
    "        loss = loss_function(output, y)\n",
    "\n",
    "        optimizer.zero_grad()\n",
    "        loss.backward()\n",
    "        optimizer.step()\n",
    "\n",
    "        total_loss += loss.item()\n",
    "\n",
    "    avg_loss = total_loss / num_batches\n",
    "    print(f\"Train loss: {avg_loss}\")\n",
    "    return avg_loss\n",
    "    \n",
    "def test_model(data_loader, model, loss_function, return_pred=False):\n",
    "\n",
    "    num_batches = len(data_loader)\n",
    "    total_loss = 0\n",
    "    output_list = []\n",
    "\n",
    "    model.eval()\n",
    "    with torch.no_grad():\n",
    "        for X, y in data_loader:\n",
    "            output = model(X)\n",
    "            total_loss += loss_function(output, y).item()\n",
    "\n",
    "    avg_loss = total_loss / num_batches\n",
    "    print(f\"Test loss: {avg_loss}\")\n",
    "    print(f\"Test correlation: {pearsonr(output, y)}\")\n",
    "    if return_pred:\n",
    "        return avg_loss, output\n",
    "    return avg_loss\n"
   ]
  },
  {
   "cell_type": "code",
   "execution_count": 73,
   "id": "c77fdd42-fd1d-4690-9d66-c21231733ef4",
   "metadata": {},
   "outputs": [],
   "source": [
    "train_portion = int(len(input_x) * 0.7)\n",
    "train_data = []\n",
    "for i in range(len(input_x)):\n",
    "    train_data.append([input_x[i], label_y[i]])\n",
    "train_loader = torch.utils.data.DataLoader(train_data[:train_portion], shuffle=True, batch_size=10)\n",
    "test_loader = torch.utils.data.DataLoader(train_data[train_portion:], shuffle=True, batch_size=10)"
   ]
  },
  {
   "cell_type": "code",
   "execution_count": 74,
   "id": "3b2aac5f-df9b-4c6a-a164-4efbbb990dbd",
   "metadata": {},
   "outputs": [],
   "source": [
    "learning_rate = 1e-5\n",
    "num_hidden_units = 16\n",
    "input_size = 2\n",
    "model = LSTM_Model(input_size=input_size, hidden_units=num_hidden_units, num_layers=2)\n",
    "model2 = h_model.CNN_RNN(num_feat=300*bs, hidden_dim=10, normalization=None, Use_GRU_LSTM='LSTM', device='cpu')\n",
    "loss_function = nn.MSELoss()\n",
    "optimizer = torch.optim.Adam(model.parameters(), lr=learning_rate)"
   ]
  },
  {
   "cell_type": "code",
   "execution_count": 75,
   "id": "b077178d-2781-4df8-95ff-5262e7daee56",
   "metadata": {},
   "outputs": [
    {
     "name": "stdout",
     "output_type": "stream",
     "text": [
      "Untrained test\n",
      "--------\n",
      "Test loss: 0.3049572866823938\n"
     ]
    },
    {
     "ename": "ValueError",
     "evalue": "The truth value of an array with more than one element is ambiguous. Use a.any() or a.all()",
     "output_type": "error",
     "traceback": [
      "\u001b[0;31m---------------------------------------------------------------------------\u001b[0m",
      "\u001b[0;31mValueError\u001b[0m                                Traceback (most recent call last)",
      "Input \u001b[0;32mIn [75]\u001b[0m, in \u001b[0;36m<cell line: 2>\u001b[0;34m()\u001b[0m\n\u001b[1;32m      1\u001b[0m \u001b[38;5;28mprint\u001b[39m(\u001b[38;5;124m\"\u001b[39m\u001b[38;5;124mUntrained test\u001b[39m\u001b[38;5;130;01m\\n\u001b[39;00m\u001b[38;5;124m--------\u001b[39m\u001b[38;5;124m\"\u001b[39m)\n\u001b[0;32m----> 2\u001b[0m \u001b[43mtest_model\u001b[49m\u001b[43m(\u001b[49m\u001b[43mtest_loader\u001b[49m\u001b[43m,\u001b[49m\u001b[43m \u001b[49m\u001b[43mmodel2\u001b[49m\u001b[43m,\u001b[49m\u001b[43m \u001b[49m\u001b[43mloss_function\u001b[49m\u001b[43m)\u001b[49m\n\u001b[1;32m      3\u001b[0m \u001b[38;5;28mprint\u001b[39m()\n",
      "Input \u001b[0;32mIn [72]\u001b[0m, in \u001b[0;36mtest_model\u001b[0;34m(data_loader, model, loss_function, return_pred)\u001b[0m\n\u001b[1;32m     32\u001b[0m avg_loss \u001b[38;5;241m=\u001b[39m total_loss \u001b[38;5;241m/\u001b[39m num_batches\n\u001b[1;32m     33\u001b[0m \u001b[38;5;28mprint\u001b[39m(\u001b[38;5;124mf\u001b[39m\u001b[38;5;124m\"\u001b[39m\u001b[38;5;124mTest loss: \u001b[39m\u001b[38;5;132;01m{\u001b[39;00mavg_loss\u001b[38;5;132;01m}\u001b[39;00m\u001b[38;5;124m\"\u001b[39m)\n\u001b[0;32m---> 34\u001b[0m \u001b[38;5;28mprint\u001b[39m(\u001b[38;5;124mf\u001b[39m\u001b[38;5;124m\"\u001b[39m\u001b[38;5;124mTest correlation: \u001b[39m\u001b[38;5;132;01m{\u001b[39;00mpearsonr(output, y)\u001b[38;5;132;01m}\u001b[39;00m\u001b[38;5;124m\"\u001b[39m)\n\u001b[1;32m     35\u001b[0m \u001b[38;5;28;01mif\u001b[39;00m return_pred:\n\u001b[1;32m     36\u001b[0m     \u001b[38;5;28;01mreturn\u001b[39;00m avg_loss, output\n",
      "File \u001b[0;32m~/miniconda3/envs/torch/lib/python3.9/site-packages/scipy/stats/stats.py:4059\u001b[0m, in \u001b[0;36mpearsonr\u001b[0;34m(x, y)\u001b[0m\n\u001b[1;32m   4055\u001b[0m r \u001b[38;5;241m=\u001b[39m np\u001b[38;5;241m.\u001b[39mdot(xm\u001b[38;5;241m/\u001b[39mnormxm, ym\u001b[38;5;241m/\u001b[39mnormym)\n\u001b[1;32m   4057\u001b[0m \u001b[38;5;66;03m# Presumably, if abs(r) > 1, then it is only some small artifact of\u001b[39;00m\n\u001b[1;32m   4058\u001b[0m \u001b[38;5;66;03m# floating point arithmetic.\u001b[39;00m\n\u001b[0;32m-> 4059\u001b[0m r \u001b[38;5;241m=\u001b[39m \u001b[38;5;28mmax\u001b[39m(\u001b[38;5;28;43mmin\u001b[39;49m\u001b[43m(\u001b[49m\u001b[43mr\u001b[49m\u001b[43m,\u001b[49m\u001b[43m \u001b[49m\u001b[38;5;241;43m1.0\u001b[39;49m\u001b[43m)\u001b[49m, \u001b[38;5;241m-\u001b[39m\u001b[38;5;241m1.0\u001b[39m)\n\u001b[1;32m   4061\u001b[0m \u001b[38;5;66;03m# As explained in the docstring, the p-value can be computed as\u001b[39;00m\n\u001b[1;32m   4062\u001b[0m \u001b[38;5;66;03m#     p = 2*dist.cdf(-abs(r))\u001b[39;00m\n\u001b[1;32m   4063\u001b[0m \u001b[38;5;66;03m# where dist is the beta distribution on [-1, 1] with shape parameters\u001b[39;00m\n\u001b[0;32m   (...)\u001b[0m\n\u001b[1;32m   4067\u001b[0m \u001b[38;5;66;03m# becomes x = (-abs(r) + 1)/2 = 0.5*(1 - abs(r)).  (r is cast to float64\u001b[39;00m\n\u001b[1;32m   4068\u001b[0m \u001b[38;5;66;03m# to avoid a TypeError raised by btdtr when r is higher precision.)\u001b[39;00m\n\u001b[1;32m   4069\u001b[0m ab \u001b[38;5;241m=\u001b[39m n\u001b[38;5;241m/\u001b[39m\u001b[38;5;241m2\u001b[39m \u001b[38;5;241m-\u001b[39m \u001b[38;5;241m1\u001b[39m\n",
      "\u001b[0;31mValueError\u001b[0m: The truth value of an array with more than one element is ambiguous. Use a.any() or a.all()"
     ]
    }
   ],
   "source": [
    "print(\"Untrained test\\n--------\")\n",
    "test_model(test_loader, model2, loss_function)\n",
    "print()"
   ]
  },
  {
   "cell_type": "code",
   "execution_count": 48,
   "id": "4c2aaa0d-bdfd-47a9-b314-a5fb2e69d74c",
   "metadata": {},
   "outputs": [
    {
     "name": "stdout",
     "output_type": "stream",
     "text": [
      "Untrained test\n",
      "--------\n",
      "Test loss: 0.2148000108699004\n",
      "Test correlation: (-0.5305752393820304, 0.11460893399358245)\n",
      "\n",
      "Epoch 0\n",
      "---------\n",
      "Train loss: 0.1763788966905503\n",
      "Test loss: 0.20252612117264007\n",
      "Test correlation: (-0.3482763029100707, 0.3240245899611963)\n",
      "\n",
      "Epoch 1\n",
      "---------\n",
      "Train loss: 0.165604312398604\n",
      "Test loss: 0.19027027090390522\n",
      "Test correlation: (-0.0937013785450263, 0.7968184153086877)\n",
      "\n",
      "Epoch 2\n",
      "---------\n",
      "Train loss: 0.15491616743661107\n",
      "Test loss: 0.17804228762785593\n",
      "Test correlation: (0.18299047063436275, 0.6128451604062248)\n",
      "\n",
      "Epoch 3\n",
      "---------\n",
      "Train loss: 0.1443095709241572\n",
      "Test loss: 0.16585523237784702\n",
      "Test correlation: (0.18044652393793087, 0.6178767561873031)\n",
      "\n",
      "Epoch 4\n",
      "---------\n",
      "Train loss: 0.13376716522588616\n",
      "Test loss: 0.15366063308384684\n",
      "Test correlation: (-0.2923211898551232, 0.412445129136646)\n",
      "\n",
      "Epoch 5\n",
      "---------\n",
      "Train loss: 0.12327913565649873\n",
      "Test loss: 0.1413639939493603\n",
      "Test correlation: (-0.0858634800971186, 0.8135522793861526)\n",
      "\n",
      "Epoch 6\n",
      "---------\n",
      "Train loss: 0.11283612687672888\n",
      "Test loss: 0.12903969838387436\n",
      "Test correlation: (-0.08886893079902314, 0.8071272688224339)\n",
      "\n",
      "Epoch 7\n",
      "---------\n",
      "Train loss: 0.10245011738900628\n",
      "Test loss: 0.11667843523124853\n",
      "Test correlation: (-0.41991006403489317, 0.22699463463462807)\n",
      "\n",
      "Epoch 8\n",
      "---------\n",
      "Train loss: 0.09214377078626837\n",
      "Test loss: 0.10425610972775354\n",
      "Test correlation: (-0.3018689930042989, 0.3966162544082254)\n",
      "\n",
      "Epoch 9\n",
      "---------\n",
      "Train loss: 0.08199174276420049\n",
      "Test loss: 0.09187078773975373\n",
      "Test correlation: (0.3376045797579432, 0.34006297146407266)\n",
      "\n",
      "Epoch 10\n",
      "---------\n",
      "Train loss: 0.07212416748738006\n",
      "Test loss: 0.07970572132617235\n",
      "Test correlation: (-0.2350368643884893, 0.513330294370931)\n",
      "\n",
      "Epoch 11\n",
      "---------\n",
      "Train loss: 0.06272004226311331\n",
      "Test loss: 0.06792898529933558\n",
      "Test correlation: (-0.36376987633601626, 0.30145626735989645)\n",
      "\n",
      "Epoch 12\n",
      "---------\n",
      "Train loss: 0.05404176638860788\n",
      "Test loss: 0.056926843782679905\n",
      "Test correlation: (-0.1673278714287424, 0.6440475913266914)\n",
      "\n",
      "Epoch 13\n",
      "---------\n",
      "Train loss: 0.04642480333291349\n",
      "Test loss: 0.04706568266782496\n",
      "Test correlation: (-0.267629730499357, 0.4547211651734869)\n",
      "\n",
      "Epoch 14\n",
      "---------\n",
      "Train loss: 0.04018926486106855\n",
      "Test loss: 0.03852371142970191\n",
      "Test correlation: (0.37766415186298374, 0.28195079215858393)\n",
      "\n",
      "Epoch 15\n",
      "---------\n",
      "Train loss: 0.035540589182415885\n",
      "Test loss: 0.03206232481946548\n",
      "Test correlation: (-0.19547168499313267, 0.5883725668388287)\n",
      "\n",
      "Epoch 16\n",
      "---------\n",
      "Train loss: 0.032500522317630905\n",
      "Test loss: 0.027386287998201118\n",
      "Test correlation: (0.02329573970060614, 0.9490682156503536)\n",
      "\n",
      "Epoch 17\n",
      "---------\n",
      "Train loss: 0.030779254853370644\n",
      "Test loss: 0.024388723184044163\n",
      "Test correlation: (0.27758706843571734, 0.43744399483531565)\n",
      "\n",
      "Epoch 18\n",
      "---------\n",
      "Train loss: 0.029951911285475252\n",
      "Test loss: 0.022591648411212695\n",
      "Test correlation: (0.004808311552306838, 0.9894820616548393)\n",
      "\n",
      "Epoch 19\n",
      "---------\n",
      "Train loss: 0.029616447010387976\n",
      "Test loss: 0.0216034979507741\n",
      "Test correlation: (0.5658993656019828, 0.08816035392635163)\n",
      "\n",
      "Epoch 20\n",
      "---------\n",
      "Train loss: 0.02949621520404305\n",
      "Test loss: 0.021008446797107658\n",
      "Test correlation: (0.6639186445599959, 0.03630617514773801)\n",
      "\n",
      "Epoch 21\n",
      "---------\n",
      "Train loss: 0.029462107623528157\n",
      "Test loss: 0.020746513068055115\n",
      "Test correlation: (0.523459080477958, 0.12047390274882043)\n",
      "\n",
      "Epoch 22\n",
      "---------\n",
      "Train loss: 0.02945099984783502\n",
      "Test loss: 0.02068319602145089\n",
      "Test correlation: (-0.5860514574670377, 0.07500342091496695)\n",
      "\n",
      "Epoch 23\n",
      "---------\n",
      "Train loss: 0.02944654696953616\n",
      "Test loss: 0.02053172913276487\n",
      "Test correlation: (-0.4846527456340685, 0.1557126287495212)\n",
      "\n",
      "Epoch 24\n",
      "---------\n",
      "Train loss: 0.029444217431314645\n",
      "Test loss: 0.02039945475343201\n",
      "Test correlation: (0.18050752186076427, 0.6177559416692521)\n",
      "\n",
      "Epoch 25\n",
      "---------\n",
      "Train loss: 0.029447186192763704\n",
      "Test loss: 0.020466434104471572\n",
      "Test correlation: (0.4332696608084732, 0.2109978645266301)\n",
      "\n",
      "Epoch 26\n",
      "---------\n"
     ]
    },
    {
     "name": "stderr",
     "output_type": "stream",
     "text": [
      "\n",
      "KeyboardInterrupt\n",
      "\n"
     ]
    }
   ],
   "source": [
    "print(\"Untrained test\\n--------\")\n",
    "test_model(test_loader, model2, loss_function)\n",
    "print()\n",
    "\n",
    "loss_list = []\n",
    "for ix_epoch in range(50):\n",
    "    print(f\"Epoch {ix_epoch}\\n---------\")\n",
    "    loss_list = train_model(train_loader, model, loss_function, optimizer=optimizer)\n",
    "    test_model(test_loader, model, loss_function)\n",
    "    print()"
   ]
  },
  {
   "cell_type": "code",
   "execution_count": 96,
   "id": "24a639f6-75f4-481f-8337-19466080dd57",
   "metadata": {},
   "outputs": [
    {
     "name": "stdout",
     "output_type": "stream",
     "text": [
      "Test loss: 0.021502546143407623\n"
     ]
    }
   ],
   "source": [
    "# avg_loss, outputs = test_model(test_loader, model, loss_function, return_pred=True)"
   ]
  },
  {
   "cell_type": "code",
   "execution_count": 54,
   "id": "51c0c3a3-00dc-4f1e-8192-f2f57e95ff3a",
   "metadata": {},
   "outputs": [],
   "source": [
    "sec_x = np.reshape(X[idx_pre:idx_pre+150,-(bs*300*2):], (-1, 2, 300*bs))\n",
    "sec_x = np.transpose(sec_x, [0,2,1])\n",
    "sec_x = sec_x.astype(np.float32)\n",
    "sec_y = y[idx_pre:idx_pre+150,0].astype(np.float32)\n",
    "\n",
    "# input_x = xs.fit_transform(input_x)\n",
    "# label_y = ys.fit_transform(label_y)\n",
    "\n",
    "sec_x = torch.tensor(sec_x)\n",
    "sec_y = torch.tensor(sec_y)\n",
    "# mms.transform(label_y)\n"
   ]
  },
  {
   "cell_type": "code",
   "execution_count": 61,
   "id": "924225c5-cdf4-4146-9b79-f47b44d1d0fa",
   "metadata": {},
   "outputs": [
    {
     "name": "stdout",
     "output_type": "stream",
     "text": [
      "pearson = (-0.013043219786774817, 0.8741285728169916)\n"
     ]
    }
   ],
   "source": [
    "# with torch.no_grad():\n",
    "#     for a, b in test_loader:\n",
    "#         output = model(a)\n",
    "#         # mms.transform(sec_y)\n",
    "#         loss = loss_function(output, b).item()\n",
    "#         print('pearson =', pearsonr(output, b))\n",
    "#         if pearsonr(output, b)[0] > 0.5:\n",
    "#             break\n",
    "#     mms.inverse(output)\n",
    "#     mms.inverse(b)\n",
    "with torch.no_grad():\n",
    "    output = model(sec_x)\n",
    "    mms.transform(sec_y)\n",
    "    loss = loss_function(output, sec_y).item()\n",
    "    print('pearson =', pearsonr(output, sec_y))\n",
    "    \n",
    "    mms.inverse(output)\n",
    "    mms.inverse(sec_y)"
   ]
  },
  {
   "cell_type": "code",
   "execution_count": 62,
   "id": "0720ceb3-d31c-47af-a294-71d3fd3a187a",
   "metadata": {},
   "outputs": [
    {
     "name": "stdout",
     "output_type": "stream",
     "text": [
      "loss = 0.0505482442677021\n",
      "pearson = (-0.013043219786774817, 0.8741285728169916)\n"
     ]
    },
    {
     "data": {
      "image/png": "[encoded data removed]",
      "text/plain": [
       "<Figure size 432x288 with 1 Axes>"
      ]
     },
     "metadata": {
      "needs_background": "light"
     },
     "output_type": "display_data"
    }
   ],
   "source": [
    "plt.plot(output)\n",
    "plt.plot(sec_y)\n",
    "print('loss =',loss)\n",
    "print('pearson =', pearsonr(output, sec_y))"
   ]
  },
  {
   "cell_type": "code",
   "execution_count": 47,
   "id": "672a73aa-56ae-4416-add9-999c43efeec4",
   "metadata": {},
   "outputs": [
    {
     "data": {
      "text/plain": [
       "tensor([136.1393, 136.1333, 136.1452, 136.1561, 136.1382, 136.1337, 136.1337,\n",
       "        136.1463, 136.1356, 136.1332])"
      ]
     },
     "execution_count": 47,
     "metadata": {},
     "output_type": "execute_result"
    }
   ],
   "source": [
    "output"
   ]
  },
  {
   "cell_type": "code",
   "execution_count": 16,
   "id": "ce93afb3-a238-4300-88ee-42be4e092657",
   "metadata": {},
   "outputs": [],
   "source": [
    "with torch.no_grad():\n",
    "    aa, (bb, cc) = model.lstm(sec_x)"
   ]
  },
  {
   "cell_type": "code",
   "execution_count": 17,
   "id": "8a56e5c3-2cad-4b3f-b887-35346b2b4db1",
   "metadata": {},
   "outputs": [
    {
     "data": {
      "text/plain": [
       "(torch.Size([150, 300, 32]),\n",
       " torch.Size([2, 150, 32]),\n",
       " torch.Size([2, 150, 32]))"
      ]
     },
     "execution_count": 17,
     "metadata": {},
     "output_type": "execute_result"
    }
   ],
   "source": [
    "aa.shape, bb.shape, cc.shape,"
   ]
  },
  {
   "cell_type": "code",
   "execution_count": 18,
   "id": "023d87d8-8d19-49da-b70b-b1aa78e707b2",
   "metadata": {},
   "outputs": [
    {
     "data": {
      "text/plain": [
       "torch.Size([150])"
      ]
     },
     "execution_count": 18,
     "metadata": {},
     "output_type": "execute_result"
    }
   ],
   "source": [
    "sec_y.shape"
   ]
  },
  {
   "cell_type": "code",
   "execution_count": 19,
   "id": "36dc4db6-4dfd-4ab5-a55a-96c4e5d3b42e",
   "metadata": {},
   "outputs": [
    {
     "data": {
      "text/plain": [
       "[<matplotlib.lines.Line2D at 0x7f3e6a3ba580>]"
      ]
     },
     "execution_count": 19,
     "metadata": {},
     "output_type": "execute_result"
    },
    {
     "data": {
      "image/png": "[encoded data removed]",
      "text/plain": [
       "<Figure size 432x288 with 1 Axes>"
      ]
     },
     "metadata": {
      "needs_background": "light"
     },
     "output_type": "display_data"
    }
   ],
   "source": [
    "asd = []\n",
    "for i in range(len(bb[0,0])):\n",
    "    rr, pp = pearsonr(bb[-1,:,i], sec_y)\n",
    "    asd.append(rr)\n",
    "plt.plot(asd)"
   ]
  },
  {
   "cell_type": "code",
   "execution_count": 164,
   "id": "318819a2-acb2-4544-bb44-40078d558111",
   "metadata": {},
   "outputs": [
    {
     "data": {
      "text/plain": [
       "tensor([0.4643, 0.4643, 0.3769, 0.3769, 0.3769, 0.1979, 0.1979, 0.0000, 0.0000,\n",
       "        0.0941, 0.0941, 0.0831, 0.0831, 0.1924, 0.1924, 0.2425, 0.2425, 0.2425,\n",
       "        0.3702, 0.3702, 0.4844, 0.4844, 0.5547, 0.5547, 0.5547, 0.5376, 0.5376,\n",
       "        0.5608, 0.5608, 0.5608, 0.7813, 0.7813, 0.7654, 0.7654, 0.7654, 0.7129,\n",
       "        0.7129, 0.6811, 0.6811, 0.6811, 0.7862, 0.7862, 0.7276, 0.7276, 0.7276,\n",
       "        0.5351, 0.5351, 0.4887, 0.4887, 0.4239, 0.4239, 0.2639, 0.2639, 0.2639,\n",
       "        0.2437, 0.2437, 0.2999, 0.2999, 0.2230, 0.2230, 0.2682, 0.2682, 0.3849,\n",
       "        0.3849, 0.3849, 0.4130, 0.4130, 0.4130, 0.5003, 0.5003, 0.7630, 0.7630,\n",
       "        0.8137, 0.8137, 0.7404, 0.7324, 0.7324, 0.7324, 0.8503, 0.8503, 0.7721,\n",
       "        0.7721, 0.7721, 0.6426, 0.6426, 0.4362, 0.4362, 0.4325, 0.4325, 0.4325,\n",
       "        0.4325, 0.4325, 0.4325, 0.4325, 0.4325, 0.5412, 0.5412, 0.5412, 0.7911,\n",
       "        0.7911, 0.9957, 0.9957, 1.0000, 1.0000, 0.8632, 0.8632, 0.8632, 0.8173,\n",
       "        0.8173, 0.7886, 0.7886, 0.7227, 0.7227, 0.7227, 0.5938, 0.5938, 0.6127,\n",
       "        0.6127, 0.5357, 0.5357, 0.5357, 0.4239, 0.4239, 0.3439, 0.3439, 0.3439,\n",
       "        0.5730, 0.5730, 0.6335, 0.6237, 0.6237, 0.6237, 0.5699, 0.5699, 0.5932,\n",
       "        0.7135, 0.7135, 0.7135, 0.7324, 0.7324, 0.7324, 0.6976, 0.6976, 0.6225,\n",
       "        0.6225, 0.5602, 0.5602, 0.3800, 0.3800, 0.4417])"
      ]
     },
     "execution_count": 164,
     "metadata": {},
     "output_type": "execute_result"
    }
   ],
   "source": []
  },
  {
   "cell_type": "code",
   "execution_count": null,
   "id": "f2fd28c4-c33d-4857-afc0-2428bda4a8c2",
   "metadata": {},
   "outputs": [],
   "source": []
  }
 ],
 "metadata": {
  "kernelspec": {
   "display_name": "torch(subject_var)",
   "language": "python",
   "name": "torch"
  },
  "language_info": {
   "codemirror_mode": {
    "name": "ipython",
    "version": 3
   },
   "file_extension": ".py",
   "mimetype": "text/x-python",
   "name": "python",
   "nbconvert_exporter": "python",
   "pygments_lexer": "ipython3",
   "version": "3.9.12"
  }
 },
 "nbformat": 4,
 "nbformat_minor": 5
}
