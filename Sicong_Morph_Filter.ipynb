{
 "cells": [
  {
   "cell_type": "code",
   "execution_count": 2,
   "id": "05187d9f-436f-4b63-8260-9f9a79f681bc",
   "metadata": {},
   "outputs": [],
   "source": [
    "import numpy as np\n",
    "import pandas as pd\n",
    "import matplotlib.pyplot as plt\n",
    "import os, sys\n",
    "import scipy\n",
    "import scipy.signal\n",
    "import glob\n",
    "sys.path.append( '/home/ugrads/c/clearloveyanzhen/CufflessBP/bioz_processing' )\n",
    "import sicong_util as su\n",
    "import sicong_duck_path as sp\n",
    "import sicong_duck_path as sdp"
   ]
  },
  {
   "cell_type": "code",
   "execution_count": 8,
   "id": "af47b7a5-98d2-4ed5-a6c6-ba5ca2c1b9c9",
   "metadata": {},
   "outputs": [],
   "source": [
    "file_list=su.export_bioz_mat_to_dict()[0]\n",
    "finapres_dict = su.export_finapres_to_dict()[0]\n",
    "mat_obj = scipy.io.loadmat(file_list['A']['01']['11_29_43'][0])\n",
    "fprs_obj = pd.read_csv(finapres_dict['A']['01']['11_29_43'][0])"
   ]
  },
  {
   "cell_type": "code",
   "execution_count": 22,
   "id": "3ca10b45-966d-4d9c-9088-1608e45ca8c8",
   "metadata": {},
   "outputs": [
    {
     "data": {
      "text/plain": [
       "(array([ 1.299072  ,  2.13845333,  2.97489067,  3.84388267,  4.73339733,\n",
       "         5.606016  ,  6.496896  ,  7.35620267,  8.21717333,  9.04341333,\n",
       "         9.84247467, 10.62788267, 11.47741867, 12.37794133, 13.272448  ,\n",
       "        14.12817067, 14.97092267, 15.79025067, 16.624128  , 17.46210133,\n",
       "        18.293248  , 18.293248  , 19.39136   , 20.06890667, 20.95125333,\n",
       "        22.088704  , 22.77521067, 23.48526933, 24.21243733, 24.97284267]),\n",
       " array([ 1.34199467,  2.17911467,  3.01508267,  3.887488  ,  4.77141333,\n",
       "         5.64565333,  6.53469867,  7.39771733,  8.25800533,  9.08565333,\n",
       "         9.88245333, 10.672128  , 11.51872   , 12.41911467, 13.31170133,\n",
       "        14.16430933, 15.005056  , 15.82848   , 16.66589867, 17.50190933,\n",
       "        18.33672533, 19.12930133, 19.922688  , 20.66990933, 21.40974933,\n",
       "        22.128128  , 22.81531733, 23.52273067, 24.255488  , 25.01175467]))"
      ]
     },
     "execution_count": 22,
     "metadata": {},
     "output_type": "execute_result"
    }
   ],
   "source": [
    "mat_obj['XL_Board'][0][0]['all'][0][0]['ms_t'][:30,0], mat_obj['XL_Board'][0][0]['all'][0][0]['ms_t'][:30,-1]"
   ]
  },
  {
   "cell_type": "code",
   "execution_count": 21,
   "id": "0707567d-43a8-4294-ad92-95822eceb457",
   "metadata": {},
   "outputs": [
    {
     "data": {
      "text/plain": [
       "[1.341994666666667,\n",
       " 2.176994666666703,\n",
       " 3.046894666666676,\n",
       " 3.936794666666687,\n",
       " 4.811694666666655,\n",
       " 5.7016946666666986,\n",
       " 6.571594666666671,\n",
       " 7.421494666666662,\n",
       " 8.256394666666667]"
      ]
     },
     "execution_count": 21,
     "metadata": {},
     "output_type": "execute_result"
    }
   ],
   "source": [
    "fprs_obj['time (synced to ppg)'].tolist()[1:10]"
   ]
  },
  {
   "cell_type": "code",
   "execution_count": 4,
   "id": "abc2aa1e-62f8-439d-bdbe-5d154f13a50d",
   "metadata": {},
   "outputs": [
    {
     "data": {
      "text/plain": [
       "array([0.00803508, 0.00803407, 0.00803305, ..., 0.00745288, 0.00745384,\n",
       "       0.0074548 ])"
      ]
     },
     "execution_count": 4,
     "metadata": {},
     "output_type": "execute_result"
    }
   ],
   "source": [
    "mat_obj['XL_Board'][0][0]['bioz']['dz'][0][1][:,0]"
   ]
  },
  {
   "cell_type": "code",
   "execution_count": 5,
   "id": "6197a055-9361-4157-8062-d2ac76a3d383",
   "metadata": {},
   "outputs": [],
   "source": [
    "data_dir = '/home/data/datasets/sicong_bioz_bp/75-1_75A/'\n",
    "sessions = sorted(next(os.walk(data_dir))[1])\n",
    "session='session01_0225-2021'\n",
    "mat_files = sorted(glob.glob(data_dir + session + '/test01*.mat'))\n",
    "m='/home/data/datasets/sicong_bioz_bp/75-1_75A/session01_0225-2021/test01-20210225 11_29_43.mat'"
   ]
  },
  {
   "cell_type": "code",
   "execution_count": null,
   "id": "94bee8a6-a003-46a6-a44a-02f671220e4b",
   "metadata": {},
   "outputs": [],
   "source": [
    "len_beat=3\n",
    "sample_res=300"
   ]
  },
  {
   "cell_type": "code",
   "execution_count": 4,
   "id": "5afbd7f6-ff8e-400b-9a35-bf8433d68040",
   "metadata": {},
   "outputs": [],
   "source": [
    "def convert_to_table(mat_obj, fprs_obj, len_beat=3, sample_res=300):\n",
    "    ppg_ms_t = mat_obj['XL_Board'][0][0]['all'][0][0]['ms_t'][:3,-1]\n",
    "    \n",
    "    t_dv = mat_obj['XL_Board'][0][0]['ppg'][0][0]['t_dv'][:,0]\n",
    "    ch1_dz = mat_obj['XL_Board'][0][0]['bioz'][0][0]['dz'][:,0]\n",
    "    ch2_dz = mat_obj['XL_Board'][0][0]['bioz'][0][1]['dz'][:,0]\n",
    "\n",
    "    ch1_ms_t = mat_obj['XL_Board'][0][0]['all'][0][0]['ms_t'][:,0]\n",
    "    ch2_ms_t = mat_obj['XL_Board'][0][0]['all'][0][0]['ms_t'][:,1]\n",
    "    ch1_ms_a = mat_obj['XL_Board'][0][0]['all'][0][0]['ms_a'][:,0]\n",
    "    ch2_ms_a = mat_obj['XL_Board'][0][0]['all'][0][0]['ms_a'][:,1]\n",
    "\n",
    "    ch1_ft_t = mat_obj['XL_Board'][0][0]['all'][0][0]['pk_t'][:,0]\n",
    "    ch2_ft_t = mat_obj['XL_Board'][0][0]['all'][0][0]['pk_t'][:,1]\n",
    "    ch1_ft_a = mat_obj['XL_Board'][0][0]['all'][0][0]['pk_a'][:,0]\n",
    "    ch2_ft_a = mat_obj['XL_Board'][0][0]['all'][0][0]['pk_a'][:,1]\n",
    "\n",
    "    ch1_pk_t = mat_obj['XL_Board'][0][0]['all'][0][0]['pk_t'][:,0]\n",
    "    ch2_pk_t = mat_obj['XL_Board'][0][0]['all'][0][0]['pk_t'][:,1]\n",
    "    ch1_pk_a = mat_obj['XL_Board'][0][0]['all'][0][0]['pk_a'][:,0]\n",
    "    ch2_pk_a = mat_obj['XL_Board'][0][0]['all'][0][0]['pk_a'][:,1]\n",
    "\n",
    "    ch1_ip_t = mat_obj['XL_Board'][0][0]['all'][0][0]['ip_t'][:,0]\n",
    "    ch2_ip_t = mat_obj['XL_Board'][0][0]['all'][0][0]['ip_t'][:,1]\n",
    "    ch1_ip_a = mat_obj['XL_Board'][0][0]['all'][0][0]['ip_a'][:,0]\n",
    "    ch2_ip_a = mat_obj['XL_Board'][0][0]['all'][0][0]['ip_a'][:,1]\n",
    "    \n",
    "    num_beats = len(ch1_pk_t)\n",
    "    \n",
    "    ptt_mst = ch2_ms_t[1:] - ch1_ms_t[1:]\n",
    "    ch1_ms_ibi=ch1_ms_t[1:] - ch1_ms_t[:-1]\n",
    "    ch1_dia_to_ms_td = ch1_ms_t[1:] - ch1_pk_t[:-1]\n",
    "    ch1_dia_to_sys_td = ch1_ft_t[1:] - ch1_pk_t[:-1]\n",
    "    ch1_dia_to_ip_td = ch1_ip_t[1:] - ch1_pk_t[:-1]\n",
    "    ch1_dia_to_ms_ad = ch1_ms_a[1:] - ch1_pk_a[:-1]\n",
    "    ch1_dia_to_sys_ad = ch1_ft_a[1:] - ch1_pk_a[:-1]\n",
    "    ch1_dia_to_ip_ad = ch1_ip_a[1:] - ch1_pk_a[:-1]\n",
    "    ch2_ms_ibi=ch2_ms_t[1:] - ch2_ms_t[:-1]\n",
    "    ch2_dia_to_ms_td = ch2_ms_t[1:] - ch2_pk_t[:-1]\n",
    "    ch2_dia_to_sys_td = ch2_ft_t[1:] - ch2_pk_t[:-1]\n",
    "    ch2_dia_to_ip_td = ch2_ip_t[1:] - ch2_pk_t[:-1]\n",
    "    ch2_dia_to_ms_ad = ch2_ms_a[1:] - ch2_pk_a[:-1]\n",
    "    ch2_dia_to_sys_ad = ch2_ft_a[1:] - ch2_pk_a[:-1]\n",
    "    ch2_dia_to_ip_ad = ch2_ip_a[1:] - ch2_pk_a[:-1]\n",
    "\n",
    "    ch1_dia_to_ms_integrate = []\n",
    "    ch1_dia_to_sys_integrate = []\n",
    "    ch1_dia_to_ip_integrate = []\n",
    "    ch1_dia_to_dia2_integrate = []\n",
    "    ch2_dia_to_ms_integrate = []\n",
    "    ch2_dia_to_sys_integrate = []\n",
    "    ch2_dia_to_ip_integrate = []\n",
    "    ch2_dia_to_dia2_integrate = []\n",
    "    for i in range(num_beats-1):\n",
    "        ch1_dia_to_ms_int = np.trapz(y=ch1_dz[(t_dv >= ch1_pk_t[i])&(t_dv <=ch1_ms_t[i+1])],x=t_dv[(t_dv >= ch1_pk_t[i])&(t_dv <=ch1_ms_t[i+1])])\n",
    "        ch1_dia_to_sys_int = np.trapz(y=ch1_dz[(t_dv >= ch1_pk_t[i])&(t_dv <=ch1_ft_t[i+1])],x=t_dv[(t_dv >= ch1_pk_t[i])&(t_dv <=ch1_ft_t[i+1])])\n",
    "        ch1_dia_to_ip_int = np.trapz(y=ch1_dz[(t_dv >= ch1_pk_t[i])&(t_dv <=ch1_ip_t[i+1])],x=t_dv[(t_dv >= ch1_pk_t[i])&(t_dv <=ch1_ip_t[i+1])])\n",
    "        ch1_dia_to_dia2_int = np.trapz(y=ch1_dz[(t_dv >= ch1_pk_t[i])&(t_dv <=ch1_pk_t[i+1])],x=t_dv[(t_dv >= ch1_pk_t[i])&(t_dv <=ch1_pk_t[i+1])])\n",
    "        ch2_dia_to_ms_int = np.trapz(y=ch2_dz[(t_dv >= ch2_pk_t[i])&(t_dv <=ch2_ms_t[i+1])],x=t_dv[(t_dv >= ch2_pk_t[i])&(t_dv <=ch2_ms_t[i+1])])\n",
    "        ch2_dia_to_sys_int = np.trapz(y=ch2_dz[(t_dv >= ch2_pk_t[i])&(t_dv <=ch2_ft_t[i+1])],x=t_dv[(t_dv >= ch2_pk_t[i])&(t_dv <=ch2_ft_t[i+1])])\n",
    "        ch2_dia_to_ip_int = np.trapz(y=ch2_dz[(t_dv >= ch2_pk_t[i])&(t_dv <=ch2_ip_t[i+1])],x=t_dv[(t_dv >= ch2_pk_t[i])&(t_dv <=ch2_ip_t[i+1])])\n",
    "        ch2_dia_to_dia2_int = np.trapz(y=ch2_dz[(t_dv >= ch2_pk_t[i])&(t_dv <=ch2_pk_t[i+1])],x=t_dv[(t_dv >= ch2_pk_t[i])&(t_dv <=ch2_pk_t[i+1])])\n",
    "\n",
    "        ch1_dia_to_ms_integrate.append(ch1_dia_to_ms_int)\n",
    "        ch1_dia_to_sys_integrate.append(ch1_dia_to_sys_int)\n",
    "        ch1_dia_to_ip_integrate.append(ch1_dia_to_ip_int)\n",
    "        ch1_dia_to_dia2_integrate.append(ch1_dia_to_dia2_int)\n",
    "        ch2_dia_to_ms_integrate.append(ch2_dia_to_ms_int)\n",
    "        ch2_dia_to_sys_integrate.append(ch2_dia_to_sys_int)\n",
    "        ch2_dia_to_ip_integrate.append(ch2_dia_to_ip_int)\n",
    "        ch2_dia_to_dia2_integrate.append(ch2_dia_to_dia2_int)\n",
    "\n",
    "    ch1_dia_to_ms_integrate = np.array(ch1_dia_to_ms_integrate)\n",
    "    ch1_dia_to_sys_integrate = np.array(ch1_dia_to_sys_integrate)\n",
    "    ch1_dia_to_ip_integrate = np.array(ch1_dia_to_ip_integrate)\n",
    "    ch1_dia_to_dia2_integrate = np.array(ch1_dia_to_dia2_integrate)\n",
    "    ch2_dia_to_ms_integrate = np.array(ch2_dia_to_ms_integrate)\n",
    "    ch2_dia_to_sys_integrate = np.array(ch2_dia_to_sys_integrate)\n",
    "    ch2_dia_to_ip_integrate = np.array(ch2_dia_to_ip_integrate)\n",
    "    ch2_dia_to_dia2_integrate = np.array(ch2_dia_to_dia2_integrate)\n",
    "\n",
    "#     Example of this reshape: df['asd']=np.arange(3070).reshape(307, -1).tolist()\n",
    "    t_dv = scipy.signal.resample(t_dv, num_beats*sample_res).reshape(num_beats, sample_res)[1:,:]\n",
    "    ch1_dz = scipy.signal.resample(ch1_dz, num_beats*sample_res).reshape(num_beats, sample_res)[1:,:]\n",
    "    ch2_dz = scipy.signal.resample(ch2_dz, num_beats*sample_res).reshape(num_beats, sample_res)[1:,:]\n",
    "\n",
    "    # ch1_dz[(t_dv >= ch1_pk_t[i])&(t_dv <=ch1_ms_t[i+1])].shape, t_dv[(t_dv >= ch1_pk_t[i])&(t_dv <=ch1_ms_t[i+1])].shape\n",
    "    feature_names = ['ptt_mst', 'ch1_ms_ibi', 'ch1_dia_to_ms_td', 'ch1_dia_to_sys_td', 'ch1_dia_to_ip_td', 'ch1_dia_to_ms_ad', 'ch1_dia_to_sys_ad', 'ch1_dia_to_ip_ad',\n",
    "                             'ch2_ms_ibi', 'ch2_dia_to_ms_td', 'ch2_dia_to_sys_td', 'ch2_dia_to_ip_td', 'ch2_dia_to_ms_ad', 'ch2_dia_to_sys_ad', 'ch2_dia_to_ip_ad',\n",
    "                                 'ch1_dia_to_ms_integrate', 'ch1_dia_to_sys_integrate', 'ch1_dia_to_ip_integrate', 'ch1_dia_to_dia2_integrate',\n",
    "                                     'ch2_dia_to_ms_integrate', 'ch2_dia_to_sys_integrate', 'ch2_dia_to_ip_integrate', 'ch2_dia_to_dia2_integrate']\n",
    "    features = np.array([ptt_mst, ch1_ms_ibi, ch1_dia_to_ms_td, ch1_dia_to_sys_td, ch1_dia_to_ip_td, ch1_dia_to_ms_ad, ch1_dia_to_sys_ad, ch1_dia_to_ip_ad,\n",
    "                             ch2_ms_ibi, ch2_dia_to_ms_td, ch2_dia_to_sys_td, ch2_dia_to_ip_td, ch2_dia_to_ms_ad, ch2_dia_to_sys_ad, ch2_dia_to_ip_ad,\n",
    "                                 ch1_dia_to_ms_integrate, ch1_dia_to_sys_integrate, ch1_dia_to_ip_integrate, ch1_dia_to_dia2_integrate,\n",
    "                                     ch2_dia_to_ms_integrate, ch2_dia_to_sys_integrate, ch2_dia_to_ip_integrate, ch2_dia_to_dia2_integrate], dtype=object)\n",
    "\n",
    "\n",
    "    df = pd.DataFrame(features.T, columns = feature_names)\n",
    "    df['t_dv']=t_dv.tolist()\n",
    "    df['ch1_dz']=ch1_dz.tolist()\n",
    "    df['ch2_dz']=ch2_dz.tolist()\n",
    "\n",
    "    return df"
   ]
  },
  {
   "cell_type": "code",
   "execution_count": null,
   "id": "374c72ca-4461-4239-a396-1e0c050a882c",
   "metadata": {},
   "outputs": [
    {
     "name": "stdout",
     "output_type": "stream",
     "text": [
      "Processing Subject F; Session 01\n",
      "Processing Subject F; Session 02\n",
      "Processing Subject F; Session 03\n",
      "Processing Subject F; Session 04\n",
      "Processing Subject F; Session 05\n",
      "Processing Subject F; Session 06\n"
     ]
    }
   ],
   "source": [
    "file_list=su.export_bioz_mat_to_dict()[0]\n",
    "for pname in su.subject_list[6:-2]:\n",
    "    bf = ''\n",
    "    for session in file_list[pname]:\n",
    "        print(f'Processing Subject {pname}; Session {session}')\n",
    "        for trial in file_list[pname][session]:\n",
    "            for file in file_list[pname][session][trial]:\n",
    "                mat_obj = scipy.io.loadmat(file)\n",
    "                save_path = file[:-4]+'.morph_csv'\n",
    "                df = convert_to_table(mat_obj)\n",
    "                df.to_csv(save_path, index=False)\n",
    "                bf += save_path + '\\n'\n",
    "    su.email_func(subject='Python Finished Tabular of a Subject', message=f'Finished with Tabular data of Subject {pname}\\n{bf}')\n"
   ]
  },
  {
   "cell_type": "code",
   "execution_count": 123,
   "id": "c7f082d1-ac4d-40ac-b756-c9d4955e52a0",
   "metadata": {},
   "outputs": [
    {
     "data": {
      "text/plain": [
       "[<matplotlib.lines.Line2D at 0x7f9011d424c0>]"
      ]
     },
     "execution_count": 123,
     "metadata": {},
     "output_type": "execute_result"
    },
    {
     "data": {
      "image/png": "[encoded data removed]",
      "text/plain": [
       "<Figure size 432x288 with 1 Axes>"
      ]
     },
     "metadata": {
      "needs_background": "light"
     },
     "output_type": "display_data"
    }
   ],
   "source": [
    "plt.plot(mat_obj['XL_Board'][0][0]['all'][0][0]['pk_t'][:,0], mat_obj['XL_Board'][0][0]['all'][0][0]['pk_a'][:,0], 'r')\n",
    "plt.plot(mat_obj['XL_Board'][0][0]['all'][0][0]['linpk_t'][:,0], mat_obj['XL_Board'][0][0]['all'][0][0]['linpk_a'][:,0], 'g')\n",
    "plt.plot(mat_obj['XL_Board'][0][0]['all'][0][0]['pk2_t'][:,0], mat_obj['XL_Board'][0][0]['all'][0][0]['pk2_a'][:,0], 'b')"
   ]
  },
  {
   "cell_type": "code",
   "execution_count": 124,
   "id": "98f4847c-9378-454d-a266-4183722acace",
   "metadata": {},
   "outputs": [
    {
     "data": {
      "text/plain": [
       "[<matplotlib.lines.Line2D at 0x7f9011d18b80>]"
      ]
     },
     "execution_count": 124,
     "metadata": {},
     "output_type": "execute_result"
    },
    {
     "data": {
      "image/png": "[encoded data removed]",
      "text/plain": [
       "<Figure size 432x288 with 1 Axes>"
      ]
     },
     "metadata": {
      "needs_background": "light"
     },
     "output_type": "display_data"
    }
   ],
   "source": [
    "plt.plot(mat_obj['XL_Board'][0][0]['all'][0][0]['ip_t'][:,0], mat_obj['XL_Board'][0][0]['all'][0][0]['ip_a'][:,0])"
   ]
  },
  {
   "cell_type": "code",
   "execution_count": 185,
   "id": "9773a2fe-e5ef-4b02-9876-399a7f28e8dc",
   "metadata": {},
   "outputs": [],
   "source": [
    "X = []\n",
    "y = []\n",
    "for session in data_dict:\n",
    "    for trial in data_dict[session]:\n",
    "        for i, feats in enumerate(data_dict[session][trial]['feats'][2:]):\n",
    "            X.append(np.concatenate((data_dict[session][trial]['feats'][i-2],data_dict[session][trial]['feats'][i-1],data_dict[session][trial]['feats'][i]),axis=0))\n",
    "            y.append([data_dict[session][trial]['sbp'][i], data_dict[session][trial]['dbp'][i]])\n",
    "X=np.array(X)\n",
    "y=np.array(y)\n",
    "np.save('/home/ugrads/c/clearloveyanzhen/CufflessBP/subject_variance_analysis/X_file 75A morph.npy', X)\n",
    "np.save('/home/ugrads/c/clearloveyanzhen/CufflessBP/subject_variance_analysis/y_file 75A morph.npy', y)"
   ]
  },
  {
   "cell_type": "code",
   "execution_count": 177,
   "id": "a23c2824-2c28-471f-94c9-d0da6fcf39bf",
   "metadata": {},
   "outputs": [
    {
     "data": {
      "text/plain": [
       "dict_keys(['x', 'feats', 'dbp', 'sbp', 'tm'])"
      ]
     },
     "execution_count": 177,
     "metadata": {},
     "output_type": "execute_result"
    }
   ],
   "source": [
    "data_dict[session][trial].keys()"
   ]
  },
  {
   "cell_type": "code",
   "execution_count": 183,
   "id": "12aff261-3f69-49eb-93ed-a175809c3081",
   "metadata": {},
   "outputs": [
    {
     "data": {
      "text/plain": [
       "(23,)"
      ]
     },
     "execution_count": 184,
     "metadata": {},
     "output_type": "execute_result"
    }
   ],
   "source": [
    "(data_dict[session][trial]['feats'][i-2]+data_dict[session][trial]['feats'][i-1]).shape"
   ]
  }
 ],
 "metadata": {
  "kernelspec": {
   "display_name": "tf2(dann)",
   "language": "python",
   "name": "tf2"
  },
  "language_info": {
   "codemirror_mode": {
    "name": "ipython",
    "version": 3
   },
   "file_extension": ".py",
   "mimetype": "text/x-python",
   "name": "python",
   "nbconvert_exporter": "python",
   "pygments_lexer": "ipython3",
   "version": "3.9.12"
  }
 },
 "nbformat": 4,
 "nbformat_minor": 5
}
