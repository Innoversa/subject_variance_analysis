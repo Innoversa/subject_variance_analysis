{
 "cells": [
  {
   "cell_type": "code",
   "execution_count": 1,
   "id": "7549e1c5-ac11-4372-9b57-ab0203b648e4",
   "metadata": {},
   "outputs": [],
   "source": [
    "import scipy.io\n",
    "import matplotlib.pyplot as plt\n",
    "import pandas as pd\n",
    "from scipy.stats import describe\n",
    "import datetime\n",
    "from datetime import timedelta as timedelta\n",
    "from sklearn import preprocessing\n",
    "from sklearn.preprocessing import MinMaxScaler\n",
    "import numpy as np\n",
    "from sklearn.preprocessing import StandardScaler\n",
    "from scipy import signal\n",
    "import os, sys\n",
    "sys.path.append( '/home/ugrads/c/clearloveyanzhen/CufflessBP/bioz_processing' )\n",
    "import sicong_util as su\n",
    "import sicong_duck_path as sp\n",
    "import sicong_duck_path as sdp\n",
    "plt.rcParams.update({'font.size': 13})\n",
    "import seaborn as sns\n",
    "import scipy as sp # for signal processing\n",
    "from scipy import signal\n",
    "from scipy.spatial import distance\n",
    "import IPython.display as ipd\n",
    "import random\n",
    "import math\n",
    "import mat73"
   ]
  },
  {
   "cell_type": "code",
   "execution_count": 101,
   "id": "6c9af480-5fec-4fe3-bffe-7e4bcb18e3ed",
   "metadata": {},
   "outputs": [],
   "source": [
    "morph_dict = su.export_morph_feat_to_dict()[0]\n",
    "finapres_dict = su.export_finapres_to_dict()[0]\n",
    "# ml = morph_dict['A']['01']['11_29_43'][0]\n",
    "# ml_df=pd.read_csv(ml)\n",
    "# fprs = finapres_dict['A']['01']['11_29_43'][0]\n",
    "# fprs_obj=pd.read_csv(fprs)"
   ]
  },
  {
   "cell_type": "code",
   "execution_count": 93,
   "id": "a11fbc82-f8a3-4bec-8db0-795c700dc509",
   "metadata": {},
   "outputs": [
    {
     "data": {
      "text/html": [
       "<div>\n",
       "<style scoped>\n",
       "    .dataframe tbody tr th:only-of-type {\n",
       "        vertical-align: middle;\n",
       "    }\n",
       "\n",
       "    .dataframe tbody tr th {\n",
       "        vertical-align: top;\n",
       "    }\n",
       "\n",
       "    .dataframe thead th {\n",
       "        text-align: right;\n",
       "    }\n",
       "</style>\n",
       "<table border=\"1\" class=\"dataframe\">\n",
       "  <thead>\n",
       "    <tr style=\"text-align: right;\">\n",
       "      <th></th>\n",
       "      <th>reSYS</th>\n",
       "      <th>fiSYS</th>\n",
       "      <th>reDIA</th>\n",
       "      <th>fiDIA</th>\n",
       "      <th>time (synced to ppg)</th>\n",
       "    </tr>\n",
       "  </thead>\n",
       "  <tbody>\n",
       "    <tr>\n",
       "      <th>0</th>\n",
       "      <td>115.859985</td>\n",
       "      <td>107.482910</td>\n",
       "      <td>74.096680</td>\n",
       "      <td>56.396484</td>\n",
       "      <td>0.502095</td>\n",
       "    </tr>\n",
       "    <tr>\n",
       "      <th>1</th>\n",
       "      <td>118.743896</td>\n",
       "      <td>111.007690</td>\n",
       "      <td>73.196411</td>\n",
       "      <td>55.648804</td>\n",
       "      <td>1.341995</td>\n",
       "    </tr>\n",
       "    <tr>\n",
       "      <th>2</th>\n",
       "      <td>122.634888</td>\n",
       "      <td>114.501953</td>\n",
       "      <td>74.996948</td>\n",
       "      <td>57.357788</td>\n",
       "      <td>2.176995</td>\n",
       "    </tr>\n",
       "    <tr>\n",
       "      <th>3</th>\n",
       "      <td>123.718262</td>\n",
       "      <td>115.951538</td>\n",
       "      <td>74.432373</td>\n",
       "      <td>56.488037</td>\n",
       "      <td>3.046895</td>\n",
       "    </tr>\n",
       "    <tr>\n",
       "      <th>4</th>\n",
       "      <td>122.985840</td>\n",
       "      <td>115.509033</td>\n",
       "      <td>73.867798</td>\n",
       "      <td>56.152344</td>\n",
       "      <td>3.936795</td>\n",
       "    </tr>\n",
       "    <tr>\n",
       "      <th>5</th>\n",
       "      <td>121.994019</td>\n",
       "      <td>113.952637</td>\n",
       "      <td>73.577881</td>\n",
       "      <td>55.831909</td>\n",
       "      <td>4.811695</td>\n",
       "    </tr>\n",
       "    <tr>\n",
       "      <th>6</th>\n",
       "      <td>121.078491</td>\n",
       "      <td>113.250732</td>\n",
       "      <td>73.059082</td>\n",
       "      <td>55.603027</td>\n",
       "      <td>5.701695</td>\n",
       "    </tr>\n",
       "    <tr>\n",
       "      <th>7</th>\n",
       "      <td>121.032715</td>\n",
       "      <td>112.289429</td>\n",
       "      <td>75.607300</td>\n",
       "      <td>57.830811</td>\n",
       "      <td>6.571595</td>\n",
       "    </tr>\n",
       "    <tr>\n",
       "      <th>8</th>\n",
       "      <td>119.705200</td>\n",
       "      <td>111.816406</td>\n",
       "      <td>75.332642</td>\n",
       "      <td>57.250977</td>\n",
       "      <td>7.421495</td>\n",
       "    </tr>\n",
       "    <tr>\n",
       "      <th>9</th>\n",
       "      <td>118.728638</td>\n",
       "      <td>110.168457</td>\n",
       "      <td>77.072144</td>\n",
       "      <td>58.624268</td>\n",
       "      <td>8.256395</td>\n",
       "    </tr>\n",
       "  </tbody>\n",
       "</table>\n",
       "</div>"
      ],
      "text/plain": [
       "        reSYS       fiSYS      reDIA      fiDIA  time (synced to ppg)\n",
       "0  115.859985  107.482910  74.096680  56.396484              0.502095\n",
       "1  118.743896  111.007690  73.196411  55.648804              1.341995\n",
       "2  122.634888  114.501953  74.996948  57.357788              2.176995\n",
       "3  123.718262  115.951538  74.432373  56.488037              3.046895\n",
       "4  122.985840  115.509033  73.867798  56.152344              3.936795\n",
       "5  121.994019  113.952637  73.577881  55.831909              4.811695\n",
       "6  121.078491  113.250732  73.059082  55.603027              5.701695\n",
       "7  121.032715  112.289429  75.607300  57.830811              6.571595\n",
       "8  119.705200  111.816406  75.332642  57.250977              7.421495\n",
       "9  118.728638  110.168457  77.072144  58.624268              8.256395"
      ]
     },
     "execution_count": 93,
     "metadata": {},
     "output_type": "execute_result"
    }
   ],
   "source": [
    "fprs_obj.head(10)"
   ]
  },
  {
   "cell_type": "code",
   "execution_count": 75,
   "id": "dbd83612-4510-41e4-8eaf-2b5b493608bb",
   "metadata": {},
   "outputs": [
    {
     "data": {
      "text/plain": [
       "0    [1.849503005010057, 1.6923313698671099, 1.8541...\n",
       "1    [2.5789680823609076, 2.5016279061085647, 2.583...\n",
       "2    [3.335108187741769, 3.284411730470118, 3.34017...\n",
       "3    [4.097917073307517, 4.060550797271277, 4.10301...\n",
       "4    [4.863393472936506, 4.834029302940828, 4.86850...\n",
       "5    [5.630203629725889, 5.606176789283891, 5.63531...\n",
       "6    [6.397775933240138, 6.377563421871572, 6.40289...\n",
       "Name: t_dv, dtype: object"
      ]
     },
     "execution_count": 75,
     "metadata": {},
     "output_type": "execute_result"
    }
   ],
   "source": [
    "ml_df['t_dv'].head(7)"
   ]
  },
  {
   "cell_type": "code",
   "execution_count": 82,
   "id": "9566e1e8-4b45-4758-b635-bcaec50280bc",
   "metadata": {},
   "outputs": [
    {
     "data": {
      "text/plain": [
       "(array([309]),)"
      ]
     },
     "execution_count": 83,
     "metadata": {},
     "output_type": "execute_result"
    }
   ],
   "source": [
    "# # def add_inter_beat(df, cname):\n",
    "# ptt_list = ml_df['ptt_mst'].tolist()\n",
    "# ptt_1 = ptt_list[2:]-ptt_list[1:]\n",
    "# ptt_2 = ptt_list[2:]-ptt_list[1:]\n",
    "fprs_time = fprs_obj['time (synced to ppg)'].to_numpy()\n",
    "bioz_ms_t = float(e['t_dv'][1:e['t_dv'].find(',')])\n",
    "np.where(fprs_time == fprs_time[(fprs_time<=bioz_ms_t)][-1])[0][0]"
   ]
  },
  {
   "cell_type": "code",
   "execution_count": 108,
   "id": "f047ba9e-bd70-4840-acf7-294b46fda13e",
   "metadata": {},
   "outputs": [
    {
     "data": {
      "text/plain": [
       "((610, 69), (610, 2))"
      ]
     },
     "execution_count": 108,
     "metadata": {},
     "output_type": "execute_result"
    }
   ],
   "source": [
    "# additional features: changes in ptt, ibi, td\n",
    "def make_batch(ml_df, fprs_obj, out_x=[], out_y=[]):\n",
    "    fprs_sys = fprs_obj['reSYS'].to_numpy()\n",
    "    fprs_dia = fprs_obj['reDIA'].to_numpy()\n",
    "    fprs_time = fprs_obj['time (synced to ppg)'].to_numpy()\n",
    "    for i, e in ml_df[2:].iterrows(): \n",
    "        feat_list = ml_df.loc[i-2][:-3].tolist()+ml_df.loc[i-1][:-3].tolist()+ml_df.loc[i][:-3].tolist()\n",
    "        bioz_ms_t = float(e['t_dv'][1:e['t_dv'].find(',')])\n",
    "        fprs_idx = np.where(fprs_time == fprs_time[(fprs_time<=bioz_ms_t)][-1])[0][0]\n",
    "        out_x.append(feat_list)\n",
    "        out_y.append([fprs_sys[fprs_idx], fprs_dia[fprs_idx]])\n",
    "    return out_x, out_y\n",
    "out_x=[]; out_y=[]\n",
    "out_x, out_y = make_batch(ml_df, fprs_obj, out_x=out_x, out_y=out_y)\n",
    "out_x, out_y = make_batch(ml_df, fprs_obj, out_x=out_x, out_y=out_y)\n",
    "np.array(out_x).shape, np.array(out_y).shape"
   ]
  },
  {
   "cell_type": "code",
   "execution_count": 112,
   "id": "7b00379b-8a63-48aa-8c57-1cf8c62ed639",
   "metadata": {},
   "outputs": [
    {
     "name": "stdout",
     "output_type": "stream",
     "text": [
      "Processing Subject A; Session 01\n",
      "Processing Subject A; Session 02\n",
      "Processing Subject A; Session 03\n",
      "Processing Subject A; Session 04\n",
      "Processing Subject A; Session 05\n",
      "Processing Subject A; Session 06\n",
      "Processing Subject A; Session 07\n",
      "Subject: Finished Morph Extraction \n",
      "\n",
      "Finished Subject A\n",
      "Processing Subject C; Session 01\n",
      "Processing Subject C; Session 02\n",
      "Processing Subject C; Session 03\n",
      "Processing Subject C; Session 04\n",
      "Processing Subject C; Session 05\n",
      "Processing Subject C; Session 06\n",
      "Processing Subject C; Session 07\n",
      "Subject: Finished Morph Extraction \n",
      "\n",
      "Finished Subject C\n",
      "Processing Subject B; Session 01\n",
      "Processing Subject B; Session 02\n",
      "Processing Subject B; Session 03\n",
      "Processing Subject B; Session 04\n",
      "Processing Subject B; Session 05\n",
      "Processing Subject B; Session 06\n",
      "Processing Subject B; Session 07\n",
      "Subject: Finished Morph Extraction \n",
      "\n",
      "Finished Subject B\n",
      "Processing Subject E; Session 01\n",
      "Processing Subject E; Session 02\n",
      "Processing Subject E; Session 03\n",
      "Processing Subject E; Session 04\n",
      "Processing Subject E; Session 05\n",
      "Processing Subject E; Session 06\n",
      "Processing Subject E; Session 07\n",
      "Subject: Finished Morph Extraction \n",
      "\n",
      "Finished Subject E\n",
      "Processing Subject H; Session 01\n",
      "Processing Subject H; Session 02\n",
      "Processing Subject H; Session 03\n",
      "Processing Subject H; Session 04\n",
      "Processing Subject H; Session 05\n",
      "Processing Subject H; Session 06\n",
      "Processing Subject H; Session 07\n",
      "Subject: Finished Morph Extraction \n",
      "\n",
      "Finished Subject H\n",
      "Processing Subject D; Session 01\n",
      "Processing Subject D; Session 02\n",
      "Processing Subject D; Session 03\n",
      "Processing Subject D; Session 04\n",
      "Processing Subject D; Session 05\n",
      "Processing Subject D; Session 06\n",
      "Processing Subject D; Session 07\n",
      "Subject: Finished Morph Extraction \n",
      "\n",
      "Finished Subject D\n",
      "Processing Subject F; Session 01\n",
      "Processing Subject F; Session 02\n"
     ]
    },
    {
     "ename": "IndexError",
     "evalue": "list index out of range",
     "output_type": "error",
     "traceback": [
      "\u001b[0;31m---------------------------------------------------------------------------\u001b[0m",
      "\u001b[0;31mIndexError\u001b[0m                                Traceback (most recent call last)",
      "Input \u001b[0;32mIn [112]\u001b[0m, in \u001b[0;36m<cell line: 1>\u001b[0;34m()\u001b[0m\n\u001b[1;32m      6\u001b[0m \u001b[38;5;28;01mfor\u001b[39;00m trial \u001b[38;5;129;01min\u001b[39;00m finapres_dict[pname][session]:\n\u001b[1;32m      7\u001b[0m     \u001b[38;5;28;01mfor\u001b[39;00m i, file \u001b[38;5;129;01min\u001b[39;00m \u001b[38;5;28menumerate\u001b[39m(finapres_dict[pname][session][trial]):\n\u001b[0;32m----> 8\u001b[0m         ml_df\u001b[38;5;241m=\u001b[39mpd\u001b[38;5;241m.\u001b[39mread_csv(\u001b[43mmorph_dict\u001b[49m\u001b[43m[\u001b[49m\u001b[43mpname\u001b[49m\u001b[43m]\u001b[49m\u001b[43m[\u001b[49m\u001b[43msession\u001b[49m\u001b[43m]\u001b[49m\u001b[43m[\u001b[49m\u001b[43mtrial\u001b[49m\u001b[43m]\u001b[49m\u001b[43m[\u001b[49m\u001b[43mi\u001b[49m\u001b[43m]\u001b[49m)\n\u001b[1;32m      9\u001b[0m         fprs_obj\u001b[38;5;241m=\u001b[39mpd\u001b[38;5;241m.\u001b[39mread_csv(finapres_dict[pname][session][trial][i])\n\u001b[1;32m     10\u001b[0m         out_x, out_y \u001b[38;5;241m=\u001b[39m make_batch(ml_df, fprs_obj, out_x\u001b[38;5;241m=\u001b[39mout_x, out_y\u001b[38;5;241m=\u001b[39mout_y)\n",
      "\u001b[0;31mIndexError\u001b[0m: list index out of range"
     ]
    }
   ],
   "source": [
    "for pname in su.subject_list[:-2]:\n",
    "    out_x=[]\n",
    "    out_y=[]\n",
    "    for session in finapres_dict[pname]:\n",
    "        print(f'Processing Subject {pname}; Session {session}')\n",
    "        for trial in finapres_dict[pname][session]:\n",
    "            for i, file in enumerate(finapres_dict[pname][session][trial]):\n",
    "                ml_df=pd.read_csv(morph_dict[pname][session][trial][i])\n",
    "                fprs_obj=pd.read_csv(finapres_dict[pname][session][trial][i])\n",
    "                out_x, out_y = make_batch(ml_df, fprs_obj, out_x=out_x, out_y=out_y)\n",
    "    su.email_func(subject=f'Finished Morph Extraction', message=f'Finished Subject {pname}')\n",
    "    np.save(f'X_file 75{pname} Morph', np.array(out_x))\n",
    "    np.save(f'y_file 75{pname} Morph', np.array(out_y))\n",
    "su.email_func(subject=f'Morph Extraction ALL Done')"
   ]
  },
  {
   "cell_type": "code",
   "execution_count": null,
   "id": "f22e431f-6d82-46ba-b650-6361cb7f2704",
   "metadata": {},
   "outputs": [],
   "source": []
  }
 ],
 "metadata": {
  "kernelspec": {
   "display_name": "torch(subject_var)",
   "language": "python",
   "name": "torch"
  },
  "language_info": {
   "codemirror_mode": {
    "name": "ipython",
    "version": 3
   },
   "file_extension": ".py",
   "mimetype": "text/x-python",
   "name": "python",
   "nbconvert_exporter": "python",
   "pygments_lexer": "ipython3",
   "version": "3.9.12"
  }
 },
 "nbformat": 4,
 "nbformat_minor": 5
}
