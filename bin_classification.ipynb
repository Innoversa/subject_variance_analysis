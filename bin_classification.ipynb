{
 "cells": [
  {
   "cell_type": "code",
   "execution_count": 106,
   "id": "926631d6-2af8-40b3-9b4a-aea17753639a",
   "metadata": {},
   "outputs": [],
   "source": [
    "import scipy.io\n",
    "import matplotlib.pyplot as plt\n",
    "import pandas as pd\n",
    "from scipy.stats import describe\n",
    "import datetime\n",
    "from datetime import timedelta as timedelta\n",
    "from sklearn import preprocessing\n",
    "from sklearn.preprocessing import MinMaxScaler\n",
    "import numpy as np\n",
    "from sklearn.preprocessing import StandardScaler\n",
    "import sklearn.utils as sku\n",
    "from scipy import signal\n",
    "import os, sys\n",
    "sys.path.append( '/home/ugrads/c/clearloveyanzhen/CufflessBP/bioz_processing' )\n",
    "import sicong_util as su\n",
    "import sicong_duck_path as sp\n",
    "import sicong_duck_path as sdp\n",
    "plt.rcParams.update({'font.size': 13})\n",
    "import seaborn as sns\n",
    "import scipy as sp # for signal processing\n",
    "from scipy import signal\n",
    "from scipy.spatial import distance\n",
    "import IPython.display as ipd\n",
    "import random\n",
    "import math\n",
    "import torch\n",
    "import torch.nn as nn\n",
    "import torch.nn.functional as F\n",
    "import torch.optim as optim\n",
    "from sklearn.model_selection import train_test_split\n",
    "from torch.utils.data import DataLoader , TensorDataset\n",
    "import torch.autograd as autograd\n",
    "from torch import Tensor"
   ]
  },
  {
   "cell_type": "code",
   "execution_count": 183,
   "id": "a16c3bbc-fede-4464-95d7-0e1dcf0bfda1",
   "metadata": {},
   "outputs": [],
   "source": [
    "def label_binary_converter(in_x, in_y, bp_type='sbp', in_vals=[140, 150], thre=[-3, +3], out_vals=[0,1], balanced_out=True):\n",
    "    # in_x=X; in_y=y; bp_type='sbp'; in_vals=[120, 160]; thre=[-2, +2]; out_vals=[0,1]; balanced_out=True\n",
    "    if bp_type == 'sbp':\n",
    "        out_y=in_y[:,0]\n",
    "    else:\n",
    "        out_y=in_y[:,1]\n",
    "    out_y0=np.zeros(out_y[(out_y >= in_vals[0]+thre[0])&(out_y <= in_vals[0]+thre[1])].shape)\n",
    "    out_y1=np.ones(out_y[(out_y >= in_vals[1]+thre[0])&(out_y <= in_vals[1]+thre[1])].shape)\n",
    "    out_x0 = in_x[(out_y >= in_vals[0]+thre[0])&(out_y <= in_vals[0]+thre[1]),:]\n",
    "    out_x1 = in_x[(out_y >= in_vals[1]+thre[0])&(out_y <= in_vals[1]+thre[1]),:]\n",
    "    if balanced_out:\n",
    "        len_out=min(out_y0.shape, out_y1.shape)[0]\n",
    "        out_x0, out_y0 = sku.resample(out_x0, out_y0, n_samples=len_out)\n",
    "        out_x1, out_y1 = sku.resample(out_x1, out_y1, n_samples=len_out)\n",
    "    out_x = np.concatenate((out_x0, out_x1))\n",
    "    out_y = np.concatenate((out_y0, out_y1))\n",
    "    out_x, out_y = sku.resample(out_x, out_y)\n",
    "    return out_x, out_y"
   ]
  },
  {
   "cell_type": "code",
   "execution_count": 184,
   "id": "b01214bd-8c8d-46ec-b6af-7c9226e2b361",
   "metadata": {},
   "outputs": [],
   "source": [
    "X = np.load('X_file.npy')\n",
    "y = np.load('y_file.npy')\n",
    "X, y = label_binary_converter(in_x=X, in_y=y)"
   ]
  },
  {
   "cell_type": "code",
   "execution_count": 185,
   "id": "d3427947-98e1-47c4-a40d-0755d502867b",
   "metadata": {},
   "outputs": [],
   "source": [
    "X = X[:,-1800:]"
   ]
  },
  {
   "cell_type": "code",
   "execution_count": 186,
   "id": "bf60af41-7b35-4adb-a3fd-c2a39cd791a1",
   "metadata": {},
   "outputs": [
    {
     "data": {
      "text/plain": [
       "(4824, 1800)"
      ]
     },
     "execution_count": 186,
     "metadata": {},
     "output_type": "execute_result"
    }
   ],
   "source": [
    "X.shape"
   ]
  },
  {
   "cell_type": "code",
   "execution_count": 187,
   "id": "d8ab9f34-ec6c-48dd-b4a7-450c9a182c62",
   "metadata": {},
   "outputs": [],
   "source": [
    "mm = MinMaxScaler()\n",
    "X = mm.fit_transform(X)"
   ]
  },
  {
   "cell_type": "code",
   "execution_count": 188,
   "id": "f7594002-569b-4556-9442-7ab616a8c692",
   "metadata": {},
   "outputs": [],
   "source": [
    "from sklearn import svm\n",
    "import xgboost\n",
    "from sklearn.model_selection import train_test_split, cross_val_score\n",
    "from sklearn.metrics import f1_score, plot_confusion_matrix\n",
    "from sklearn.linear_model import LogisticRegression, LinearRegression\n",
    "X_train, X_test, y_train, y_test = train_test_split(X, y, test_size=0.3, random_state=42)\n",
    "# lr = LogisticRegression(random_state=0)\n",
    "xgb = xgboost.XGBClassifier(objective='binary:logistic', eval_metric='logloss', use_label_encoder=False)\n",
    "models_used = {'xgb':xgb}\n",
    "model_names = {'xgb':'XGBoost'}\n",
    "colors_used = {'xgb': 'blue'}\n",
    "scores = {}\n",
    "for model in models_used:\n",
    "    scores[model] = cross_val_score(models_used[model], X, y, cv=10, scoring='f1')"
   ]
  },
  {
   "cell_type": "code",
   "execution_count": 190,
   "id": "ef4355b7-dfa8-44a7-89eb-e5f9fb27b80c",
   "metadata": {},
   "outputs": [
    {
     "name": "stdout",
     "output_type": "stream",
     "text": [
      "xgb\n",
      "0.898883291124126\n"
     ]
    },
    {
     "data": {
      "text/plain": [
       "<matplotlib.legend.Legend at 0x7f6c0823a160>"
      ]
     },
     "execution_count": 190,
     "metadata": {},
     "output_type": "execute_result"
    },
    {
     "data": {
      "image/png": "[encoded data removed]",
      "text/plain": [
       "<Figure size 432x288 with 1 Axes>"
      ]
     },
     "metadata": {
      "needs_background": "light"
     },
     "output_type": "display_data"
    }
   ],
   "source": [
    "plt.title('cross validation F1 Scores (140 vs. 150 mmHg)')\n",
    "for model in scores:\n",
    "    plt.plot(scores[model], color=colors_used[model], label=model_names[model])\n",
    "    plt.axhline(np.mean(scores[model]), color=colors_used[model], label=str(np.mean(scores[model]))[:5])\n",
    "    plt.ylim([0.5, 1])\n",
    "    print(model)\n",
    "    print(np.mean(scores[model]))\n",
    "plt.legend()"
   ]
  },
  {
   "cell_type": "code",
   "execution_count": 194,
   "id": "23b74372-2121-4b56-a908-089995dd1293",
   "metadata": {},
   "outputs": [
    {
     "name": "stdout",
     "output_type": "stream",
     "text": [
      "0.8691392582225332\n"
     ]
    }
   ],
   "source": [
    "for model in models_used:\n",
    "    models_used[model].fit(X_train, y_train)\n",
    "    y_pred = models_used[model].predict(X_test)\n",
    "    print(f1_score(y_test, y_pred))"
   ]
  },
  {
   "cell_type": "code",
   "execution_count": 196,
   "id": "b9c379db-2da6-4f0a-ba7e-b3b40e613705",
   "metadata": {},
   "outputs": [
    {
     "name": "stderr",
     "output_type": "stream",
     "text": [
      "/home/ugrads/c/clearloveyanzhen/miniconda3/envs/torch/lib/python3.9/site-packages/sklearn/utils/deprecation.py:87: FutureWarning: Function plot_confusion_matrix is deprecated; Function `plot_confusion_matrix` is deprecated in 1.0 and will be removed in 1.2. Use one of the class methods: ConfusionMatrixDisplay.from_predictions or ConfusionMatrixDisplay.from_estimator.\n",
      "  warnings.warn(msg, category=FutureWarning)\n"
     ]
    },
    {
     "data": {
      "text/plain": [
       "Text(0.5, 1.0, 'Confusion Matrix of subset of data')"
      ]
     },
     "execution_count": 196,
     "metadata": {},
     "output_type": "execute_result"
    },
    {
     "data": {
      "image/png": "[encoded data removed]",
      "text/plain": [
       "<Figure size 432x288 with 2 Axes>"
      ]
     },
     "metadata": {
      "needs_background": "light"
     },
     "output_type": "display_data"
    }
   ],
   "source": [
    "plot_confusion_matrix(models_used['xgb'], X_test, y_test, display_labels=['140', '150'])\n",
    "plt.title('Confusion Matrix of subset of data')"
   ]
  },
  {
   "cell_type": "code",
   "execution_count": null,
   "id": "86d2953a-ca13-4061-b6f0-b638c2f8d1dd",
   "metadata": {},
   "outputs": [],
   "source": []
  }
 ],
 "metadata": {
  "kernelspec": {
   "display_name": "torch(subject_var)",
   "language": "python",
   "name": "torch"
  },
  "language_info": {
   "codemirror_mode": {
    "name": "ipython",
    "version": 3
   },
   "file_extension": ".py",
   "mimetype": "text/x-python",
   "name": "python",
   "nbconvert_exporter": "python",
   "pygments_lexer": "ipython3",
   "version": "3.9.12"
  }
 },
 "nbformat": 4,
 "nbformat_minor": 5
}
