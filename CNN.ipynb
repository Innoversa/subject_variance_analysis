{
 "cells": [
  {
   "cell_type": "code",
   "execution_count": 3,
   "id": "cb0e886f-7e70-42a5-9777-1b98e2278f37",
   "metadata": {},
   "outputs": [
    {
     "name": "stderr",
     "output_type": "stream",
     "text": [
      "2022-04-18 12:24:35.847922: I tensorflow/stream_executor/platform/default/dso_loader.cc:49] Successfully opened dynamic library libcudart.so.10.1\n"
     ]
    }
   ],
   "source": [
    "# cnn model\n",
    "from numpy import mean\n",
    "from numpy import std\n",
    "from numpy import dstack\n",
    "from pandas import read_csv\n",
    "from matplotlib import pyplot\n",
    "from keras.models import Sequential\n",
    "from keras.layers import Dense\n",
    "from keras.layers import Flatten\n",
    "from keras.layers import Dropout, Reshape\n",
    "from keras.layers.convolutional import Conv1D\n",
    "from keras.layers.convolutional import MaxPooling1D \n",
    "from keras.utils import to_categorical\n",
    "\n",
    "import matplotlib.pyplot as plt\n",
    "import tensorflow as tf\n",
    "\n",
    "import pickle\n",
    "import pandas as pd\n",
    "import numpy as np\n",
    "\n",
    "from scipy.stats import pearsonr\n",
    "import os\n",
    "os.environ[\"CUDA_VISIBLE_DEVICES\"]=\"0,1\""
   ]
  },
  {
   "cell_type": "code",
   "execution_count": 5,
   "id": "17bd6e59-29c6-4a80-9218-3ec70835e88d",
   "metadata": {},
   "outputs": [
    {
     "data": {
      "text/plain": [
       "['75-5_75H.pkl', '75-4_75E.pkl', '75-1_75A.pkl', '75-8_75F.pkl']"
      ]
     },
     "execution_count": 5,
     "metadata": {},
     "output_type": "execute_result"
    }
   ],
   "source": [
    "os.listdir('/home/data/datasets/sicong_bioz_bp/bioz_pickles/')"
   ]
  },
  {
   "cell_type": "code",
   "execution_count": 6,
   "id": "ef3ab51b-9c4b-4a45-95f4-0997367d976d",
   "metadata": {},
   "outputs": [],
   "source": [
    "file = open('/home/data/datasets/sicong_bioz_bp/bioz_pickles/75-5_75H.pkl', 'rb')\n",
    "all_75h = pickle.load(file)\n",
    "file.close()"
   ]
  },
  {
   "cell_type": "code",
   "execution_count": 7,
   "id": "fdfdfc08-8ab7-4dc9-a4b0-b40511817c48",
   "metadata": {},
   "outputs": [
    {
     "data": {
      "text/plain": [
       "dict_keys(['session06_05212021', 'session05_0518_2021', 'session07', 'session01_0406_2021', 'session03_0510_2021', 'session04_0513_2021', 'session02_0413_2021'])"
      ]
     },
     "execution_count": 7,
     "metadata": {},
     "output_type": "execute_result"
    }
   ],
   "source": [
    "all_75h.keys()"
   ]
  },
  {
   "cell_type": "code",
   "execution_count": 8,
   "id": "a21ac28e-1d6c-47d8-8682-c4b6cad3d74b",
   "metadata": {},
   "outputs": [],
   "source": [
    "test00 = all_75h['session06_05212021']['test00-20210521 13_20_26']['BioZ_ch1']\n",
    "test01 = all_75h['session06_05212021']['test01-20210521 13_20_26']['BioZ_ch1']\n",
    "\n",
    "\n",
    "trial10_test00 = all_75h['session06_05212021']['test00-20210521 13_46_18']['BioZ_ch1']\n",
    "trial11_test01 = all_75h['session06_05212021']['test01-20210521 13_46_18']['BioZ_ch1']\n",
    "\n",
    "trial20_test00 = all_75h['session06_05212021']['test00-20210521 13_55_53']['BioZ_ch1']\n",
    "trial21_test01 = all_75h['session06_05212021']['test01-20210521 13_55_53']['BioZ_ch1']\n",
    "\n",
    "trial30_test00 = all_75h['session06_05212021']['test00-20210521 13_29_26']['BioZ_ch1']\n",
    "trial31_test01 = all_75h['session06_05212021']['test01-20210521 13_29_26']['BioZ_ch1']\n",
    "\n",
    "\n",
    "frames = [trial10_test00, trial11_test01]\n",
    "\n",
    "data = pd.concat(frames)\n",
    "data = data.fillna(method=\"ffill\")"
   ]
  },
  {
   "cell_type": "code",
   "execution_count": 9,
   "id": "bd2e1d42-2187-4dcf-9741-5cf5da6cddbc",
   "metadata": {},
   "outputs": [],
   "source": [
    "X = data.iloc[:,:-4]\n",
    "y = data.iloc[:, -4] - data.iloc[:, -3]\n",
    "\n",
    "X_train = X[:int(0.8*len(X))]\n",
    "X_test = X[int(0.8*len(X)):]\n",
    "\n",
    "y_train = y[:int(0.8*len(y))]\n",
    "y_test = y[int(0.8*len(y)):]"
   ]
  },
  {
   "cell_type": "code",
   "execution_count": 10,
   "id": "43d60c19-c9dc-41b7-9107-f1ed7d145218",
   "metadata": {},
   "outputs": [],
   "source": [
    "from keras import backend as K\n",
    "def root_mean_squared_error(y_true, y_pred):\n",
    "        return K.sqrt(K.mean(K.square(y_pred - y_true))) \n",
    "def pearson_r(y_true, y_pred):\n",
    "    x = y_true\n",
    "    y = y_pred\n",
    "    mx = tf.reduce_mean(x, axis=1, keepdims=True)\n",
    "    my = tf.reduce_mean(y, axis=1, keepdims=True)\n",
    "    xm, ym = x - mx, y - my\n",
    "    t1_norm = tf.nn.l2_normalize(xm, axis = 1)\n",
    "    t2_norm = tf.nn.l2_normalize(ym, axis = 1)\n",
    "    cosine = tf.losses.cosine_distance(t1_norm, t2_norm, axis = 1)\n",
    "    return cosine"
   ]
  },
  {
   "cell_type": "code",
   "execution_count": 11,
   "id": "61336fbf-150e-43f6-9eac-d40b2477857c",
   "metadata": {},
   "outputs": [
    {
     "name": "stdout",
     "output_type": "stream",
     "text": [
      "Model: \"sequential_1\"\n",
      "_________________________________________________________________\n",
      "Layer (type)                 Output Shape              Param #   \n",
      "=================================================================\n",
      "reshape_1 (Reshape)          (None, 1000, 1)           0         \n",
      "_________________________________________________________________\n",
      "conv1d_3 (Conv1D)            (None, 969, 64)           2112      \n",
      "_________________________________________________________________\n",
      "max_pooling1d_3 (MaxPooling1 (None, 323, 64)           0         \n",
      "_________________________________________________________________\n",
      "conv1d_4 (Conv1D)            (None, 308, 32)           32800     \n",
      "_________________________________________________________________\n",
      "max_pooling1d_4 (MaxPooling1 (None, 102, 32)           0         \n",
      "_________________________________________________________________\n",
      "conv1d_5 (Conv1D)            (None, 95, 16)            4112      \n",
      "_________________________________________________________________\n",
      "max_pooling1d_5 (MaxPooling1 (None, 31, 16)            0         \n",
      "_________________________________________________________________\n",
      "flatten_1 (Flatten)          (None, 496)               0         \n",
      "_________________________________________________________________\n",
      "dense_1 (Dense)              (None, 1)                 497       \n",
      "=================================================================\n",
      "Total params: 39,521\n",
      "Trainable params: 39,521\n",
      "Non-trainable params: 0\n",
      "_________________________________________________________________\n",
      "None\n"
     ]
    }
   ],
   "source": [
    "TIME_PERIODS = 1000\n",
    "num_sensors = 1\n",
    "\n",
    "model1 = Sequential()\n",
    "model1.add(Reshape((TIME_PERIODS, num_sensors), input_shape=(1000, 1)))\n",
    "model1.add(Conv1D(64, 32, activation='relu', input_shape=(TIME_PERIODS, num_sensors)))\n",
    "model1.add(MaxPooling1D(3))\n",
    "# model_m.add(Conv1D(32, 10, activation='relu'))\n",
    "# model_m.add(MaxPooling1D(3))\n",
    "model1.add(Conv1D(32, 16, activation='relu'))\n",
    "model1.add(MaxPooling1D(3))\n",
    "model1.add(Conv1D(16, 8, activation='relu'))\n",
    "model1.add(MaxPooling1D(3))\n",
    "model1.add(Flatten())\n",
    "model1.add(Dense(1, activation='relu'))\n",
    "print(model1.summary())"
   ]
  },
  {
   "cell_type": "code",
   "execution_count": 12,
   "id": "133437d9-5754-4bf1-9d26-ca912b4353b7",
   "metadata": {},
   "outputs": [
    {
     "name": "stderr",
     "output_type": "stream",
     "text": [
      "2022-04-18 12:26:02.061759: I tensorflow/compiler/mlir/mlir_graph_optimization_pass.cc:116] None of the MLIR optimization passes are enabled (registered 2)\n",
      "2022-04-18 12:26:02.081150: I tensorflow/core/platform/profile_utils/cpu_utils.cc:112] CPU Frequency: 2199915000 Hz\n"
     ]
    },
    {
     "name": "stdout",
     "output_type": "stream",
     "text": [
      "Epoch 1/100\n"
     ]
    },
    {
     "name": "stderr",
     "output_type": "stream",
     "text": [
      "2022-04-18 12:26:04.044286: I tensorflow/stream_executor/platform/default/dso_loader.cc:49] Successfully opened dynamic library libcublas.so.10\n",
      "2022-04-18 12:26:04.790013: I tensorflow/stream_executor/platform/default/dso_loader.cc:49] Successfully opened dynamic library libcudnn.so.7\n"
     ]
    },
    {
     "name": "stdout",
     "output_type": "stream",
     "text": [
      "10/10 [==============================] - 7s 130ms/step - loss: 59.3077 - mae: 58.8785 - val_loss: 58.9212 - val_mae: 58.6515\n",
      "Epoch 2/100\n",
      "10/10 [==============================] - 0s 14ms/step - loss: 56.3249 - mae: 55.8711 - val_loss: 41.9383 - val_mae: 41.3449\n",
      "Epoch 3/100\n",
      "10/10 [==============================] - 0s 20ms/step - loss: 31.8007 - mae: 30.2529 - val_loss: 25.2300 - val_mae: 21.1526\n",
      "Epoch 4/100\n",
      "10/10 [==============================] - 0s 20ms/step - loss: 14.1253 - mae: 11.3922 - val_loss: 13.4395 - val_mae: 11.0768\n",
      "Epoch 5/100\n",
      "10/10 [==============================] - 0s 18ms/step - loss: 13.4133 - mae: 10.5873 - val_loss: 13.5187 - val_mae: 11.1953\n",
      "Epoch 6/100\n",
      "10/10 [==============================] - 0s 16ms/step - loss: 12.0951 - mae: 9.6211 - val_loss: 13.5369 - val_mae: 11.0991\n",
      "Epoch 7/100\n",
      "10/10 [==============================] - 0s 14ms/step - loss: 12.2576 - mae: 9.5595 - val_loss: 13.7893 - val_mae: 11.1770\n",
      "Epoch 8/100\n",
      "10/10 [==============================] - 0s 17ms/step - loss: 11.1460 - mae: 8.8284 - val_loss: 13.1036 - val_mae: 10.6249\n",
      "Epoch 9/100\n",
      "10/10 [==============================] - 0s 23ms/step - loss: 11.2038 - mae: 8.9550 - val_loss: 12.5546 - val_mae: 10.1680\n",
      "Epoch 10/100\n",
      "10/10 [==============================] - 0s 15ms/step - loss: 10.6103 - mae: 8.4144 - val_loss: 14.1341 - val_mae: 11.3847\n",
      "Epoch 11/100\n",
      "10/10 [==============================] - 0s 21ms/step - loss: 11.1043 - mae: 8.8296 - val_loss: 12.5538 - val_mae: 10.0786\n",
      "Epoch 12/100\n",
      "10/10 [==============================] - 0s 14ms/step - loss: 11.0284 - mae: 8.7218 - val_loss: 11.7497 - val_mae: 9.4267\n",
      "Epoch 13/100\n",
      "10/10 [==============================] - 0s 13ms/step - loss: 10.7109 - mae: 8.6494 - val_loss: 12.1051 - val_mae: 9.7045\n",
      "Epoch 14/100\n",
      "10/10 [==============================] - 0s 14ms/step - loss: 10.8085 - mae: 8.5248 - val_loss: 11.1966 - val_mae: 8.9397\n",
      "Epoch 15/100\n",
      "10/10 [==============================] - 0s 16ms/step - loss: 9.7742 - mae: 7.8781 - val_loss: 10.5157 - val_mae: 8.3776\n",
      "Epoch 16/100\n",
      "10/10 [==============================] - 0s 17ms/step - loss: 9.8458 - mae: 7.4356 - val_loss: 10.1731 - val_mae: 8.0538\n",
      "Epoch 17/100\n",
      "10/10 [==============================] - 0s 17ms/step - loss: 10.6058 - mae: 8.3227 - val_loss: 11.3631 - val_mae: 9.1257\n",
      "Epoch 18/100\n",
      "10/10 [==============================] - 0s 19ms/step - loss: 9.8157 - mae: 7.6703 - val_loss: 10.6873 - val_mae: 8.5581\n",
      "Epoch 19/100\n",
      "10/10 [==============================] - 0s 12ms/step - loss: 9.1507 - mae: 7.3335 - val_loss: 11.1572 - val_mae: 8.9567\n",
      "Epoch 20/100\n",
      "10/10 [==============================] - 0s 13ms/step - loss: 8.9384 - mae: 7.1508 - val_loss: 10.8171 - val_mae: 8.6667\n",
      "Epoch 21/100\n",
      "10/10 [==============================] - 0s 13ms/step - loss: 10.1643 - mae: 8.2323 - val_loss: 9.1695 - val_mae: 7.2172\n",
      "Epoch 22/100\n",
      "10/10 [==============================] - 0s 19ms/step - loss: 9.7067 - mae: 7.4789 - val_loss: 8.7638 - val_mae: 6.8812\n",
      "Epoch 23/100\n",
      "10/10 [==============================] - 0s 14ms/step - loss: 8.8698 - mae: 7.1415 - val_loss: 8.3248 - val_mae: 6.4380\n",
      "Epoch 24/100\n",
      "10/10 [==============================] - 0s 20ms/step - loss: 8.7270 - mae: 6.9792 - val_loss: 7.9277 - val_mae: 6.1048\n",
      "Epoch 25/100\n",
      "10/10 [==============================] - 0s 15ms/step - loss: 8.6704 - mae: 6.8204 - val_loss: 7.7483 - val_mae: 5.9822\n",
      "Epoch 26/100\n",
      "10/10 [==============================] - 0s 17ms/step - loss: 8.5814 - mae: 6.6698 - val_loss: 7.3506 - val_mae: 5.6525\n",
      "Epoch 27/100\n",
      "10/10 [==============================] - 0s 17ms/step - loss: 8.4400 - mae: 6.4108 - val_loss: 7.1610 - val_mae: 5.4757\n",
      "Epoch 28/100\n",
      "10/10 [==============================] - 0s 16ms/step - loss: 7.9640 - mae: 6.2310 - val_loss: 7.6832 - val_mae: 5.9603\n",
      "Epoch 29/100\n",
      "10/10 [==============================] - 0s 21ms/step - loss: 7.8548 - mae: 6.1243 - val_loss: 9.7732 - val_mae: 7.8229\n",
      "Epoch 30/100\n",
      "10/10 [==============================] - 0s 15ms/step - loss: 9.2727 - mae: 7.3378 - val_loss: 7.7377 - val_mae: 5.9699\n",
      "Epoch 31/100\n",
      "10/10 [==============================] - 0s 18ms/step - loss: 8.0734 - mae: 6.2741 - val_loss: 5.9528 - val_mae: 4.4264\n",
      "Epoch 32/100\n",
      "10/10 [==============================] - 0s 19ms/step - loss: 7.2719 - mae: 5.5543 - val_loss: 5.6815 - val_mae: 4.3184\n",
      "Epoch 33/100\n",
      "10/10 [==============================] - 0s 19ms/step - loss: 7.9303 - mae: 5.9560 - val_loss: 6.4145 - val_mae: 4.8259\n",
      "Epoch 34/100\n",
      "10/10 [==============================] - 0s 19ms/step - loss: 8.2847 - mae: 6.4517 - val_loss: 5.6934 - val_mae: 4.1777\n",
      "Epoch 35/100\n",
      "10/10 [==============================] - 0s 13ms/step - loss: 7.8923 - mae: 5.8922 - val_loss: 5.7242 - val_mae: 4.5605\n",
      "Epoch 36/100\n",
      "10/10 [==============================] - 0s 21ms/step - loss: 8.0050 - mae: 5.8982 - val_loss: 6.2039 - val_mae: 5.1802\n",
      "Epoch 37/100\n",
      "10/10 [==============================] - 0s 19ms/step - loss: 7.1513 - mae: 5.5355 - val_loss: 6.2831 - val_mae: 5.2998\n",
      "Epoch 38/100\n",
      "10/10 [==============================] - 0s 18ms/step - loss: 7.4294 - mae: 5.8008 - val_loss: 5.3008 - val_mae: 4.1483\n",
      "Epoch 39/100\n",
      "10/10 [==============================] - 0s 17ms/step - loss: 6.9055 - mae: 5.2567 - val_loss: 5.2661 - val_mae: 4.1022\n",
      "Epoch 40/100\n",
      "10/10 [==============================] - 0s 19ms/step - loss: 6.9770 - mae: 5.5112 - val_loss: 6.3117 - val_mae: 5.3858\n",
      "Epoch 41/100\n",
      "10/10 [==============================] - 0s 13ms/step - loss: 7.5990 - mae: 5.9758 - val_loss: 5.3165 - val_mae: 4.2029\n",
      "Epoch 42/100\n",
      "10/10 [==============================] - 0s 16ms/step - loss: 7.9818 - mae: 5.9033 - val_loss: 5.7468 - val_mae: 4.1354\n",
      "Epoch 43/100\n",
      "10/10 [==============================] - 0s 21ms/step - loss: 8.1033 - mae: 6.0870 - val_loss: 5.0349 - val_mae: 3.8539\n",
      "Epoch 44/100\n",
      "10/10 [==============================] - 0s 18ms/step - loss: 7.4622 - mae: 5.5297 - val_loss: 5.4572 - val_mae: 4.3619\n",
      "Epoch 45/100\n",
      "10/10 [==============================] - 0s 16ms/step - loss: 7.2469 - mae: 5.7288 - val_loss: 5.8853 - val_mae: 4.9013\n",
      "Epoch 46/100\n",
      "10/10 [==============================] - 0s 28ms/step - loss: 8.0740 - mae: 5.9665 - val_loss: 5.0819 - val_mae: 3.9293\n",
      "Epoch 47/100\n",
      "10/10 [==============================] - 0s 15ms/step - loss: 6.7927 - mae: 5.1541 - val_loss: 5.2003 - val_mae: 4.0673\n",
      "Epoch 48/100\n",
      "10/10 [==============================] - 0s 20ms/step - loss: 7.7953 - mae: 5.8475 - val_loss: 4.9564 - val_mae: 3.7518\n",
      "Epoch 49/100\n",
      "10/10 [==============================] - 0s 22ms/step - loss: 7.9571 - mae: 6.0505 - val_loss: 5.2722 - val_mae: 3.7552\n",
      "Epoch 50/100\n",
      "10/10 [==============================] - 0s 14ms/step - loss: 7.5069 - mae: 5.5741 - val_loss: 5.2054 - val_mae: 3.6860\n",
      "Epoch 51/100\n",
      "10/10 [==============================] - 0s 13ms/step - loss: 7.8577 - mae: 5.8679 - val_loss: 5.1333 - val_mae: 3.9962\n",
      "Epoch 52/100\n",
      "10/10 [==============================] - 0s 18ms/step - loss: 7.2029 - mae: 5.5617 - val_loss: 5.1873 - val_mae: 4.0542\n",
      "Epoch 53/100\n",
      "10/10 [==============================] - 0s 23ms/step - loss: 8.1308 - mae: 6.0779 - val_loss: 6.1577 - val_mae: 5.2212\n",
      "Epoch 54/100\n",
      "10/10 [==============================] - 0s 13ms/step - loss: 7.2030 - mae: 5.6637 - val_loss: 5.0586 - val_mae: 3.8986\n",
      "Epoch 55/100\n",
      "10/10 [==============================] - 0s 14ms/step - loss: 7.1957 - mae: 5.3015 - val_loss: 5.2355 - val_mae: 3.7148\n",
      "Epoch 56/100\n",
      "10/10 [==============================] - 0s 13ms/step - loss: 7.8918 - mae: 5.8347 - val_loss: 5.8490 - val_mae: 4.2244\n",
      "Epoch 57/100\n",
      "10/10 [==============================] - 0s 21ms/step - loss: 7.6810 - mae: 5.7999 - val_loss: 5.4860 - val_mae: 3.9168\n",
      "Epoch 58/100\n",
      "10/10 [==============================] - 0s 17ms/step - loss: 7.5044 - mae: 6.0318 - val_loss: 5.2719 - val_mae: 3.7734\n",
      "Epoch 59/100\n",
      "10/10 [==============================] - 0s 13ms/step - loss: 8.4149 - mae: 6.5726 - val_loss: 5.0928 - val_mae: 3.7127\n",
      "Epoch 60/100\n",
      "10/10 [==============================] - 0s 14ms/step - loss: 7.7293 - mae: 5.9369 - val_loss: 5.2461 - val_mae: 3.8295\n",
      "Epoch 61/100\n",
      "10/10 [==============================] - 0s 14ms/step - loss: 7.3577 - mae: 5.6299 - val_loss: 5.2826 - val_mae: 4.1921\n",
      "Epoch 62/100\n",
      "10/10 [==============================] - 0s 17ms/step - loss: 7.5280 - mae: 5.7393 - val_loss: 5.5550 - val_mae: 4.5012\n",
      "Epoch 63/100\n",
      "10/10 [==============================] - 0s 21ms/step - loss: 7.1313 - mae: 5.4168 - val_loss: 5.0594 - val_mae: 3.8975\n",
      "Epoch 64/100\n",
      "10/10 [==============================] - 0s 16ms/step - loss: 7.2849 - mae: 5.4905 - val_loss: 5.1513 - val_mae: 3.6453\n",
      "Epoch 65/100\n",
      "10/10 [==============================] - 0s 16ms/step - loss: 6.8424 - mae: 5.1606 - val_loss: 4.9435 - val_mae: 3.7250\n",
      "Epoch 66/100\n",
      "10/10 [==============================] - 0s 12ms/step - loss: 7.1144 - mae: 5.3621 - val_loss: 5.0198 - val_mae: 3.8334\n",
      "Epoch 67/100\n",
      "10/10 [==============================] - 0s 21ms/step - loss: 7.1216 - mae: 5.4453 - val_loss: 5.8969 - val_mae: 4.9122\n",
      "Epoch 68/100\n",
      "10/10 [==============================] - 0s 15ms/step - loss: 7.7833 - mae: 6.1147 - val_loss: 5.7363 - val_mae: 4.7027\n",
      "Epoch 69/100\n",
      "10/10 [==============================] - 0s 21ms/step - loss: 7.0619 - mae: 5.7352 - val_loss: 5.6482 - val_mae: 4.6011\n",
      "Epoch 70/100\n",
      "10/10 [==============================] - 0s 15ms/step - loss: 7.7572 - mae: 5.7961 - val_loss: 6.4934 - val_mae: 5.6048\n",
      "Epoch 71/100\n",
      "10/10 [==============================] - 0s 17ms/step - loss: 8.4841 - mae: 6.3864 - val_loss: 7.2818 - val_mae: 6.4843\n",
      "Epoch 72/100\n",
      "10/10 [==============================] - 0s 14ms/step - loss: 7.7938 - mae: 6.0795 - val_loss: 6.0319 - val_mae: 5.0910\n",
      "Epoch 73/100\n",
      "10/10 [==============================] - 0s 13ms/step - loss: 7.2686 - mae: 5.6457 - val_loss: 5.3736 - val_mae: 4.2828\n",
      "Epoch 74/100\n",
      "10/10 [==============================] - 0s 15ms/step - loss: 7.0970 - mae: 5.4113 - val_loss: 5.0033 - val_mae: 3.5738\n",
      "Epoch 75/100\n",
      "10/10 [==============================] - 0s 15ms/step - loss: 7.1965 - mae: 5.4202 - val_loss: 5.1374 - val_mae: 3.6398\n",
      "Epoch 76/100\n",
      "10/10 [==============================] - 0s 17ms/step - loss: 7.4527 - mae: 5.5467 - val_loss: 4.9053 - val_mae: 3.5498\n",
      "Epoch 77/100\n",
      "10/10 [==============================] - 0s 17ms/step - loss: 7.4386 - mae: 5.4248 - val_loss: 4.9190 - val_mae: 3.5715\n",
      "Epoch 78/100\n",
      "10/10 [==============================] - 0s 17ms/step - loss: 7.1964 - mae: 5.5081 - val_loss: 4.8936 - val_mae: 3.5198\n",
      "Epoch 79/100\n",
      "10/10 [==============================] - 0s 14ms/step - loss: 7.2326 - mae: 5.4243 - val_loss: 5.0656 - val_mae: 3.5906\n",
      "Epoch 80/100\n",
      "10/10 [==============================] - 0s 20ms/step - loss: 7.2486 - mae: 5.4453 - val_loss: 4.8839 - val_mae: 3.6368\n",
      "Epoch 81/100\n",
      "10/10 [==============================] - 0s 20ms/step - loss: 6.8875 - mae: 5.2574 - val_loss: 5.3608 - val_mae: 3.8140\n",
      "Epoch 82/100\n",
      "10/10 [==============================] - 0s 21ms/step - loss: 7.3071 - mae: 5.5135 - val_loss: 5.2487 - val_mae: 3.7264\n",
      "Epoch 83/100\n",
      "10/10 [==============================] - 0s 18ms/step - loss: 7.9413 - mae: 5.9912 - val_loss: 5.1174 - val_mae: 3.9859\n",
      "Epoch 84/100\n",
      "10/10 [==============================] - 0s 14ms/step - loss: 7.6220 - mae: 5.9417 - val_loss: 5.2366 - val_mae: 4.1146\n",
      "Epoch 85/100\n",
      "10/10 [==============================] - 0s 13ms/step - loss: 7.2330 - mae: 5.4524 - val_loss: 5.1384 - val_mae: 4.0065\n",
      "Epoch 86/100\n",
      "10/10 [==============================] - 0s 20ms/step - loss: 7.2586 - mae: 5.3191 - val_loss: 6.6192 - val_mae: 5.7590\n",
      "Epoch 87/100\n",
      "10/10 [==============================] - 0s 13ms/step - loss: 7.9550 - mae: 6.0059 - val_loss: 5.0955 - val_mae: 3.6106\n",
      "Epoch 88/100\n",
      "10/10 [==============================] - 0s 13ms/step - loss: 7.2424 - mae: 5.2852 - val_loss: 4.9241 - val_mae: 3.6935\n",
      "Epoch 89/100\n",
      "10/10 [==============================] - 0s 16ms/step - loss: 7.7099 - mae: 5.8106 - val_loss: 5.1056 - val_mae: 3.6232\n",
      "Epoch 90/100\n",
      "10/10 [==============================] - 0s 16ms/step - loss: 8.3596 - mae: 6.3913 - val_loss: 6.3119 - val_mae: 4.6260\n",
      "Epoch 91/100\n",
      "10/10 [==============================] - 0s 14ms/step - loss: 8.7390 - mae: 7.1095 - val_loss: 5.3352 - val_mae: 3.8741\n",
      "Epoch 92/100\n",
      "10/10 [==============================] - 0s 17ms/step - loss: 7.3285 - mae: 5.5243 - val_loss: 5.2940 - val_mae: 4.2243\n",
      "Epoch 93/100\n",
      "10/10 [==============================] - 0s 21ms/step - loss: 7.4173 - mae: 5.6556 - val_loss: 4.8577 - val_mae: 3.6394\n",
      "Epoch 94/100\n",
      "10/10 [==============================] - 0s 27ms/step - loss: 7.6946 - mae: 5.8210 - val_loss: 5.7224 - val_mae: 4.7518\n",
      "Epoch 95/100\n",
      "10/10 [==============================] - 0s 24ms/step - loss: 7.3400 - mae: 5.5740 - val_loss: 5.1844 - val_mae: 4.0687\n",
      "Epoch 96/100\n",
      "10/10 [==============================] - 0s 24ms/step - loss: 7.1866 - mae: 5.7424 - val_loss: 5.2091 - val_mae: 4.1083\n",
      "Epoch 97/100\n",
      "10/10 [==============================] - 0s 15ms/step - loss: 7.9072 - mae: 6.2469 - val_loss: 5.0356 - val_mae: 3.6900\n",
      "Epoch 98/100\n",
      "10/10 [==============================] - 0s 16ms/step - loss: 7.8572 - mae: 6.0276 - val_loss: 4.9491 - val_mae: 3.6678\n",
      "Epoch 99/100\n",
      "10/10 [==============================] - 0s 21ms/step - loss: 7.7361 - mae: 5.8626 - val_loss: 5.6490 - val_mae: 4.6297\n",
      "Epoch 100/100\n",
      "10/10 [==============================] - 0s 15ms/step - loss: 7.5737 - mae: 5.8805 - val_loss: 5.5751 - val_mae: 4.5530\n"
     ]
    }
   ],
   "source": [
    "model1.compile(loss=root_mean_squared_error,\n",
    "                optimizer='adam', metrics=['mae'])\n",
    "\n",
    "BATCH_SIZE = 32\n",
    "EPOCHS = 100\n",
    "\n",
    "history = model1.fit(X_train,\n",
    "                      y_train,\n",
    "                      batch_size=BATCH_SIZE,\n",
    "                      epochs=EPOCHS,\n",
    "                      # callbacks=callbacks_list,\n",
    "                      validation_split=0.2,\n",
    "                      verbose=1)"
   ]
  },
  {
   "cell_type": "code",
   "execution_count": 13,
   "id": "65c1d36b-7c3d-41c8-a160-da2af5876811",
   "metadata": {},
   "outputs": [],
   "source": [
    "pred = model1.predict(X_test)"
   ]
  },
  {
   "cell_type": "code",
   "execution_count": 14,
   "id": "9c4a2220-c09f-4f67-b97d-dd9fd0737778",
   "metadata": {},
   "outputs": [
    {
     "data": {
      "text/plain": [
       "<tf.Tensor: shape=(), dtype=float64, numpy=7.056020655694652>"
      ]
     },
     "execution_count": 14,
     "metadata": {},
     "output_type": "execute_result"
    }
   ],
   "source": [
    "root_mean_squared_error(np.array(y_test), np.array(pred))"
   ]
  },
  {
   "cell_type": "code",
   "execution_count": 15,
   "id": "aa9fe8d9-1e5a-48e0-af80-534938f47ecc",
   "metadata": {},
   "outputs": [
    {
     "data": {
      "text/plain": [
       "(-0.12433648130620692, 0.22253484886997704)"
      ]
     },
     "execution_count": 15,
     "metadata": {},
     "output_type": "execute_result"
    }
   ],
   "source": [
    "s = len(pred)\n",
    "pearsonr(np.array(pred).reshape(s), np.array(y_test).reshape(s))"
   ]
  },
  {
   "cell_type": "code",
   "execution_count": null,
   "id": "8c3a51c3-f0ef-4fa9-bfde-5c7735d1da26",
   "metadata": {},
   "outputs": [],
   "source": []
  }
 ],
 "metadata": {
  "kernelspec": {
   "display_name": "Python 3 (ipykernel)",
   "language": "python",
   "name": "python3"
  },
  "language_info": {
   "codemirror_mode": {
    "name": "ipython",
    "version": 3
   },
   "file_extension": ".py",
   "mimetype": "text/x-python",
   "name": "python",
   "nbconvert_exporter": "python",
   "pygments_lexer": "ipython3",
   "version": "3.9.7"
  }
 },
 "nbformat": 4,
 "nbformat_minor": 5
}
